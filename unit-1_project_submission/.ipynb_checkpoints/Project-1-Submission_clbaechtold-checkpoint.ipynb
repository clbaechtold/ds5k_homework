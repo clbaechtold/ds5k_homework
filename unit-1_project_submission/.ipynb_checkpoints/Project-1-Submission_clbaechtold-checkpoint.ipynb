{
 "cells": [
  {
   "cell_type": "markdown",
   "metadata": {},
   "source": [
    "<img src=\"http://imgur.com/1ZcRyrc.png\" style=\"float: left; margin: 20px; height: 55px\">\n",
    "\n",
    "# Project 1: Python Coding Exercises\n",
    "\n",
    "_Authors: Joseph Nelson (DC) _\n",
    "\n",
    "---"
   ]
  },
  {
   "cell_type": "markdown",
   "metadata": {},
   "source": [
    "The following code challenges are drawn from common exercises used in technical interviews.\n",
    "\n",
    "Note that there may be several ways to approach each challenge!"
   ]
  },
  {
   "cell_type": "markdown",
   "metadata": {},
   "source": [
    "### Challenge 1.1: Largest Palindrome\n",
    "A palindromic number reads the same both ways. For example, 1234321 is a palindrome. The largest palindrome made from the product of two two-digit numbers is 9009 = 91 × 99. Find the largest palindrome made from the product of two three-digit numbers."
   ]
  },
  {
   "cell_type": "code",
   "execution_count": 49,
   "metadata": {
    "collapsed": false
   },
   "outputs": [
    {
     "name": "stdout",
     "output_type": "stream",
     "text": [
      "The largest palindrome made from the product of two three-digit numbers is  906609\n"
     ]
    }
   ],
   "source": [
    "# function to find the largest palindrome that is made from the product of two three-digit numbers\n",
    "def largest_palindrome():\n",
    "    # define list of palindromes\n",
    "    palindromes = []\n",
    "    # iterate through the possible first values in the product\n",
    "    for i in range(100,1000):\n",
    "        # for each first value, iterate through possible second values\n",
    "        for j in range(100,1000):\n",
    "            # calculate the product and check if it is a palindrome; if so, add it to the palindromes list\n",
    "            product = i*j\n",
    "            if is_palindrome(product):\n",
    "                palindromes.append(product)\n",
    "    # return the max value in the palindromes list\n",
    "    return max(palindromes)\n",
    "\n",
    "# function to check if an object is a palindrome\n",
    "def is_palindrome(x):\n",
    "    return str(x) == str(x)[::-1]\n",
    "\n",
    "print \"The largest palindrome made from the product of two three-digit numbers is \", largest_palindrome()"
   ]
  },
  {
   "cell_type": "markdown",
   "metadata": {},
   "source": [
    "\n",
    "### Challenge 1.2: Summation of Primes\n",
    "The sum of the primes below 10 is 2 + 3 + 5 + 7 = 17. Find the sum of all the primes below 2,000."
   ]
  },
  {
   "cell_type": "code",
   "execution_count": 42,
   "metadata": {
    "collapsed": false
   },
   "outputs": [
    {
     "name": "stdout",
     "output_type": "stream",
     "text": [
      "The sum of all primes below  2000  is  277050\n"
     ]
    },
    {
     "data": {
      "text/plain": [
       "277050"
      ]
     },
     "execution_count": 42,
     "metadata": {},
     "output_type": "execute_result"
    }
   ],
   "source": [
    "# function to check if a number is prime\n",
    "def is_prime(n):\n",
    "    # returns true if n%x is non-zero for all x below n, not including 1 and 0\n",
    "    return (n>=2) & (all(n%x!=0 for x in range(2,n)))\n",
    "\n",
    "# Function to calculate the sum of all primes below n:\n",
    "def sum_of_primes(n):\n",
    "    # define list of primes inside of function\n",
    "    primes = []\n",
    "    for i in range(1,n):\n",
    "        # if i is a prime number, append it to the list of primes\n",
    "        if is_prime(i):\n",
    "            # append to list of primes\n",
    "            primes.append(i)\n",
    "    # calculate some of values in list of primes\n",
    "    some_primes = sum(primes)\n",
    "    # print output\n",
    "    print 'The sum of all primes below ', n, ' is ', some_primes\n",
    "    return some_primes\n",
    "\n",
    "sum_of_primes(2000)\n",
    "\n",
    "\n",
    "        \n"
   ]
  },
  {
   "cell_type": "markdown",
   "metadata": {},
   "source": [
    "### Challenge 1.3: Multiples of 3 and 5\n",
    "If we list all of the natural numbers below 10 that are multiples of 3 or 5, we get 3, 5, 6, and 9. The sum of these multiples is 23. Find the sum of all the multiples of 3 and 5 below 1,000."
   ]
  },
  {
   "cell_type": "code",
   "execution_count": 7,
   "metadata": {
    "collapsed": false
   },
   "outputs": [
    {
     "name": "stdout",
     "output_type": "stream",
     "text": [
      "The sum of multiples of all multiples of 3 or 5 below 1000 is  233168\n"
     ]
    }
   ],
   "source": [
    "# list to contain multiples of 3 or 5\n",
    "multiples = []\n",
    "# iterate through all numbers below 1000, EXCLUDING 1000\n",
    "# ASSUMPTION: IF THE NUMBER IS A MULTIPLE OF BOTH 3 AND 5 (E.G. 15), IT SHOULD ONLY BE ADDED TO THE LIST ONCE\n",
    "for i in range(1,1000):\n",
    "    # check if i is a multiple of 3 or 5; if it is, add it to the list of multiples\n",
    "    if (i % 3 == 0) | (i % 5 == 0):\n",
    "        multiples.append(i)\n",
    "        \n",
    "# assign sum of multiples to variable\n",
    "sum_of_multiples = sum(multiples)\n",
    "\n",
    "# print sum of variables\n",
    "print 'The sum of multiples of all multiples of 3 or 5 below 1000 is ', sum_of_multiples\n",
    "\n",
    "    "
   ]
  },
  {
   "cell_type": "markdown",
   "metadata": {},
   "source": [
    "### Challenge 2: FizzBuzz\n",
    "Write a program that prints all of the numbers from 1 to 100. For multiples of 3, instead of the number, print \"Fizz;\" for multiples of 5, print \"Buzz.\" For numbers that are multiples of both 3 and 5, print \"FizzBuzz.\" Bonus: If that's too easy, create three unique solutions. Sometimes you'll encounter unexpected constraints, so make sure you're able to think creatively!"
   ]
  },
  {
   "cell_type": "code",
   "execution_count": null,
   "metadata": {
    "collapsed": true
   },
   "outputs": [],
   "source": [
    "# method one using & operator for two conditions\n",
    "for i in range(1,101):\n",
    "    if ((i % 3) == 0) & ((i % 5) == 0):\n",
    "        print 'fizzbuzz'\n",
    "    elif i % 5 == 0:\n",
    "        print 'buzz'\n",
    "    elif i % 3 == 0:\n",
    "        print 'fizz'\n",
    "    else:\n",
    "        print i\n",
    "\n",
    "# method two using nesting\n",
    "for i in range(1,101):\n",
    "    if i % 3 == 0:\n",
    "        if i % 5 == 0:\n",
    "            print 'fizzbuzz'\n",
    "        else:\n",
    "            print 'fizz'\n",
    "    elif i % 5 == 0:\n",
    "        print 'buzz'\n",
    "    else:\n",
    "        print i"
   ]
  },
  {
   "cell_type": "markdown",
   "metadata": {},
   "source": [
    "### Challenge 3: String Compressor\n",
    "Implement a method to perform basic string compression using the counts of repeated characters. (This is called run-length encoding.) For example, the string \"aabcccccaaa\" would become a2b1c5a3. If the “compressed” string would not become smaller than the original string, your method should return the original string. You can assume the string has only uppercase and lowercase letters (a–z). Specify whether your solution is case sensitive or case insensitive and what you would need to change to make it the other."
   ]
  },
  {
   "cell_type": "code",
   "execution_count": 57,
   "metadata": {
    "collapsed": false
   },
   "outputs": [],
   "source": [
    "s = 'aabcccccaaa'  "
   ]
  },
  {
   "cell_type": "code",
   "execution_count": 58,
   "metadata": {
    "collapsed": false
   },
   "outputs": [],
   "source": [
    "\"\"\"\n",
    "This function will ignore case- i.e. 'f' and 'F' are treated as unique characters\n",
    "\n",
    "To change this, you would just place string = string.lower() or string = string.upper() in the first line of the\n",
    "function definition.\n",
    "\n",
    "This function will do the run-length encoding for a string; if the length of the encoding is greater than or equal\n",
    "to the length of the original string, it will return the original string\n",
    "\"\"\"\n",
    "# define function with string input\n",
    "def rl_encode(string):\n",
    "    # initialize encoded_string variable\n",
    "    encoded_string = ''\n",
    "    # start from the firts character in the string\n",
    "    init = string[0]\n",
    "    count = 0\n",
    "    for i, c in enumerate(string):\n",
    "        # checks if the letter has changed in the string\n",
    "        if c != init:\n",
    "            # add previous character and its count to encoded string\n",
    "            encoded_string += init\n",
    "            encoded_string += str(count)\n",
    "            # reset counter back to one for new characters\n",
    "            count = 1\n",
    "            # check if you're at the last character, if so, make sure to add it to the encoding\n",
    "            if i == len(string)-1:\n",
    "                encoded_string += c\n",
    "                encoded_string += str(count)\n",
    "            init = c\n",
    "        # if letter is the same as previous, add another to the counter\n",
    "        else:\n",
    "            count += 1\n",
    "            # check if you're at the last character, if so, make sure to add it to the encoding\n",
    "            if i == len(string)-1:\n",
    "                encoded_string += init\n",
    "                encoded_string += str(count)\n",
    "    # logical check if the encoding is greater than or equal in length to the string\n",
    "    if len(encoded_string) >= len(string):\n",
    "        return string\n",
    "    else:\n",
    "        return encoded_string"
   ]
  },
  {
   "cell_type": "code",
   "execution_count": 59,
   "metadata": {
    "collapsed": false
   },
   "outputs": [
    {
     "data": {
      "text/plain": [
       "'a2b121c5a3'"
      ]
     },
     "execution_count": 59,
     "metadata": {},
     "output_type": "execute_result"
    }
   ],
   "source": [
    "rl_encode(s)"
   ]
  },
  {
   "cell_type": "code",
   "execution_count": null,
   "metadata": {
    "collapsed": true
   },
   "outputs": [],
   "source": []
  }
 ],
 "metadata": {
  "anaconda-cloud": {},
  "kernelspec": {
   "display_name": "Python [python27]",
   "language": "python",
   "name": "Python [python27]"
  },
  "language_info": {
   "codemirror_mode": {
    "name": "ipython",
    "version": 2
   },
   "file_extension": ".py",
   "mimetype": "text/x-python",
   "name": "python",
   "nbconvert_exporter": "python",
   "pygments_lexer": "ipython2",
   "version": "2.7.13"
  }
 },
 "nbformat": 4,
 "nbformat_minor": 2
}
