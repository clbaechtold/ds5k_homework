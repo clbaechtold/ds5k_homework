{
 "cells": [
  {
   "cell_type": "code",
   "execution_count": 1,
   "metadata": {
    "collapsed": false
   },
   "outputs": [],
   "source": [
    "import requests\n",
    "import json\n",
    "import pandas as pd\n",
    "import numpy as np\n",
    "import matplotlib.pyplot as plt\n",
    "import seaborn as sns\n",
    "from urllib import urlopen\n",
    "from bs4 import BeautifulSoup\n",
    "from tqdm import tqdm\n",
    "import codecs\n",
    "%matplotlib inline\n",
    "\n",
    "plt.style.use('fivethirtyeight')"
   ]
  },
  {
   "cell_type": "code",
   "execution_count": 2,
   "metadata": {
    "collapsed": true
   },
   "outputs": [],
   "source": [
    "html = urlopen(\"http://craftcans.com/db.php?search=all&sort=beerid&ord=desc&view=text\")\n",
    "html_soup = BeautifulSoup(html, 'html.parser')"
   ]
  },
  {
   "cell_type": "code",
   "execution_count": 3,
   "metadata": {
    "collapsed": false
   },
   "outputs": [],
   "source": [
    "rows = html_soup.findAll('tr')"
   ]
  },
  {
   "cell_type": "code",
   "execution_count": 4,
   "metadata": {
    "collapsed": false,
    "scrolled": true
   },
   "outputs": [
    {
     "name": "stdout",
     "output_type": "stream",
     "text": [
      "2439\n"
     ]
    }
   ],
   "source": [
    "print len(rows)"
   ]
  },
  {
   "cell_type": "code",
   "execution_count": 5,
   "metadata": {
    "collapsed": false
   },
   "outputs": [
    {
     "name": "stdout",
     "output_type": "stream",
     "text": [
      "ruh-roh\n"
     ]
    }
   ],
   "source": [
    "beers = []\n",
    "for row in rows:\n",
    "    row.encode('utf-8')\n",
    "    entries = row.findAll('td')\n",
    "    if len(entries) == 8:\n",
    "        id = entries[0].text\n",
    "        id = id[0:len(id)-1]\n",
    "        try:\n",
    "            beer_entry = {\n",
    "                \"id\": int(id),\n",
    "                \"name\": entries[1].text,\n",
    "                \"brewery_name\": entries[2].text,\n",
    "                \"brewery_location\": entries[3].text,\n",
    "                \"style\": entries[4].text,\n",
    "                \"size\": entries[5].text,\n",
    "                \"abv\": entries[6].text,    \n",
    "                \"ibu\": entries[7].text\n",
    "            }\n",
    "            beers.append(beer_entry)\n",
    "        except ValueError:\n",
    "            print 'ruh-roh'"
   ]
  },
  {
   "cell_type": "code",
   "execution_count": 15,
   "metadata": {
    "collapsed": false
   },
   "outputs": [
    {
     "name": "stdout",
     "output_type": "stream",
     "text": [
      "<class 'pandas.core.frame.DataFrame'>\n",
      "RangeIndex: 2424 entries, 0 to 2423\n",
      "Data columns (total 8 columns):\n",
      "abv                 2424 non-null object\n",
      "brewery_location    2424 non-null object\n",
      "brewery_name        2424 non-null object\n",
      "ibu                 2424 non-null object\n",
      "id                  2424 non-null int64\n",
      "name                2424 non-null object\n",
      "size                2424 non-null object\n",
      "style               2424 non-null object\n",
      "dtypes: int64(1), object(7)\n",
      "memory usage: 151.6+ KB\n"
     ]
    }
   ],
   "source": [
    "craft_cans = pd.DataFrame(data=beers)\n",
    "craft_cans.info()"
   ]
  },
  {
   "cell_type": "code",
   "execution_count": 16,
   "metadata": {
    "collapsed": false
   },
   "outputs": [
    {
     "data": {
      "text/html": [
       "<div>\n",
       "<style>\n",
       "    .dataframe thead tr:only-child th {\n",
       "        text-align: right;\n",
       "    }\n",
       "\n",
       "    .dataframe thead th {\n",
       "        text-align: left;\n",
       "    }\n",
       "\n",
       "    .dataframe tbody tr th {\n",
       "        vertical-align: top;\n",
       "    }\n",
       "</style>\n",
       "<table border=\"1\" class=\"dataframe\">\n",
       "  <thead>\n",
       "    <tr style=\"text-align: right;\">\n",
       "      <th></th>\n",
       "      <th>abv</th>\n",
       "      <th>brewery_location</th>\n",
       "      <th>brewery_name</th>\n",
       "      <th>ibu</th>\n",
       "      <th>id</th>\n",
       "      <th>name</th>\n",
       "      <th>size</th>\n",
       "      <th>style</th>\n",
       "    </tr>\n",
       "  </thead>\n",
       "  <tbody>\n",
       "    <tr>\n",
       "      <th>count</th>\n",
       "      <td>2424</td>\n",
       "      <td>2424</td>\n",
       "      <td>2424</td>\n",
       "      <td>2424</td>\n",
       "      <td>2424.000000</td>\n",
       "      <td>2424</td>\n",
       "      <td>2424</td>\n",
       "      <td>2424</td>\n",
       "    </tr>\n",
       "    <tr>\n",
       "      <th>unique</th>\n",
       "      <td>75</td>\n",
       "      <td>404</td>\n",
       "      <td>554</td>\n",
       "      <td>108</td>\n",
       "      <td>NaN</td>\n",
       "      <td>2318</td>\n",
       "      <td>19</td>\n",
       "      <td>100</td>\n",
       "    </tr>\n",
       "    <tr>\n",
       "      <th>top</th>\n",
       "      <td>5.0%</td>\n",
       "      <td>Grand Rapids, MI</td>\n",
       "      <td>Brewery Vivant</td>\n",
       "      <td>N/A</td>\n",
       "      <td>NaN</td>\n",
       "      <td>Nonstop Hef Hop</td>\n",
       "      <td>12 oz.</td>\n",
       "      <td>American IPA</td>\n",
       "    </tr>\n",
       "    <tr>\n",
       "      <th>freq</th>\n",
       "      <td>221</td>\n",
       "      <td>66</td>\n",
       "      <td>62</td>\n",
       "      <td>1010</td>\n",
       "      <td>NaN</td>\n",
       "      <td>12</td>\n",
       "      <td>1482</td>\n",
       "      <td>426</td>\n",
       "    </tr>\n",
       "    <tr>\n",
       "      <th>mean</th>\n",
       "      <td>NaN</td>\n",
       "      <td>NaN</td>\n",
       "      <td>NaN</td>\n",
       "      <td>NaN</td>\n",
       "      <td>1438.483498</td>\n",
       "      <td>NaN</td>\n",
       "      <td>NaN</td>\n",
       "      <td>NaN</td>\n",
       "    </tr>\n",
       "    <tr>\n",
       "      <th>std</th>\n",
       "      <td>NaN</td>\n",
       "      <td>NaN</td>\n",
       "      <td>NaN</td>\n",
       "      <td>NaN</td>\n",
       "      <td>756.488496</td>\n",
       "      <td>NaN</td>\n",
       "      <td>NaN</td>\n",
       "      <td>NaN</td>\n",
       "    </tr>\n",
       "    <tr>\n",
       "      <th>min</th>\n",
       "      <td>NaN</td>\n",
       "      <td>NaN</td>\n",
       "      <td>NaN</td>\n",
       "      <td>NaN</td>\n",
       "      <td>1.000000</td>\n",
       "      <td>NaN</td>\n",
       "      <td>NaN</td>\n",
       "      <td>NaN</td>\n",
       "    </tr>\n",
       "    <tr>\n",
       "      <th>25%</th>\n",
       "      <td>NaN</td>\n",
       "      <td>NaN</td>\n",
       "      <td>NaN</td>\n",
       "      <td>NaN</td>\n",
       "      <td>813.750000</td>\n",
       "      <td>NaN</td>\n",
       "      <td>NaN</td>\n",
       "      <td>NaN</td>\n",
       "    </tr>\n",
       "    <tr>\n",
       "      <th>50%</th>\n",
       "      <td>NaN</td>\n",
       "      <td>NaN</td>\n",
       "      <td>NaN</td>\n",
       "      <td>NaN</td>\n",
       "      <td>1460.500000</td>\n",
       "      <td>NaN</td>\n",
       "      <td>NaN</td>\n",
       "      <td>NaN</td>\n",
       "    </tr>\n",
       "    <tr>\n",
       "      <th>75%</th>\n",
       "      <td>NaN</td>\n",
       "      <td>NaN</td>\n",
       "      <td>NaN</td>\n",
       "      <td>NaN</td>\n",
       "      <td>2086.250000</td>\n",
       "      <td>NaN</td>\n",
       "      <td>NaN</td>\n",
       "      <td>NaN</td>\n",
       "    </tr>\n",
       "    <tr>\n",
       "      <th>max</th>\n",
       "      <td>NaN</td>\n",
       "      <td>NaN</td>\n",
       "      <td>NaN</td>\n",
       "      <td>NaN</td>\n",
       "      <td>2707.000000</td>\n",
       "      <td>NaN</td>\n",
       "      <td>NaN</td>\n",
       "      <td>NaN</td>\n",
       "    </tr>\n",
       "  </tbody>\n",
       "</table>\n",
       "</div>"
      ],
      "text/plain": [
       "         abv  brewery_location    brewery_name   ibu           id  \\\n",
       "count   2424              2424            2424  2424  2424.000000   \n",
       "unique    75               404             554   108          NaN   \n",
       "top     5.0%  Grand Rapids, MI  Brewery Vivant   N/A          NaN   \n",
       "freq     221                66              62  1010          NaN   \n",
       "mean     NaN               NaN             NaN   NaN  1438.483498   \n",
       "std      NaN               NaN             NaN   NaN   756.488496   \n",
       "min      NaN               NaN             NaN   NaN     1.000000   \n",
       "25%      NaN               NaN             NaN   NaN   813.750000   \n",
       "50%      NaN               NaN             NaN   NaN  1460.500000   \n",
       "75%      NaN               NaN             NaN   NaN  2086.250000   \n",
       "max      NaN               NaN             NaN   NaN  2707.000000   \n",
       "\n",
       "                   name    size         style  \n",
       "count              2424    2424          2424  \n",
       "unique             2318      19           100  \n",
       "top     Nonstop Hef Hop  12 oz.  American IPA  \n",
       "freq                 12    1482           426  \n",
       "mean                NaN     NaN           NaN  \n",
       "std                 NaN     NaN           NaN  \n",
       "min                 NaN     NaN           NaN  \n",
       "25%                 NaN     NaN           NaN  \n",
       "50%                 NaN     NaN           NaN  \n",
       "75%                 NaN     NaN           NaN  \n",
       "max                 NaN     NaN           NaN  "
      ]
     },
     "execution_count": 16,
     "metadata": {},
     "output_type": "execute_result"
    }
   ],
   "source": [
    "craft_cans.describe(include='all')"
   ]
  },
  {
   "cell_type": "code",
   "execution_count": 17,
   "metadata": {
    "collapsed": false
   },
   "outputs": [],
   "source": [
    "dropnas = craft_cans.replace('N/A',np.nan).dropna().copy()\n",
    "dropnas.ibu = dropnas.ibu.map(float)\n",
    "style_means = dict(dropnas.groupby('style').ibu.mean())\n",
    "\n",
    "ibus = []\n",
    "for i, ibu in enumerate(craft_cans.ibu):\n",
    "    if ibu == 'N/A':\n",
    "        try:\n",
    "            ibus.append(float(style_means[craft_cans['style'].iloc[i]]))\n",
    "        except KeyError:\n",
    "            ibus.append(0.)\n",
    "    else:\n",
    "        ibus.append(float(ibu))\n",
    "craft_cans['ibu_clean'] = ibus"
   ]
  },
  {
   "cell_type": "code",
   "execution_count": 18,
   "metadata": {
    "collapsed": false,
    "scrolled": true
   },
   "outputs": [
    {
     "data": {
      "text/plain": [
       "5.0%     221\n",
       "5.5%     159\n",
       "6.0%     125\n",
       "6.5%     125\n",
       "5.2%     107\n",
       "7.0%      92\n",
       "4.5%      89\n",
       "4.8%      72\n",
       "5.8%      67\n",
       "5.6%      66\n",
       "???       62\n",
       "5.1%      62\n",
       "6.2%      60\n",
       "5.3%      60\n",
       "4.9%      59\n",
       "8.0%      58\n",
       "4.7%      57\n",
       "5.7%      53\n",
       "6.8%      52\n",
       "5.4%      50\n",
       "7.5%      43\n",
       "4.2%      38\n",
       "6.3%      38\n",
       "4.0%      38\n",
       "7.2%      37\n",
       "9.9%      35\n",
       "5.9%      34\n",
       "4.6%      32\n",
       "6.9%      31\n",
       "8.5%      26\n",
       "        ... \n",
       "9.5%       9\n",
       "4.1%       9\n",
       "7.4%       9\n",
       "8.3%       8\n",
       "7.9%       7\n",
       "3.5%       6\n",
       "3.8%       6\n",
       "8.8%       6\n",
       "9.6%       5\n",
       "9.7%       5\n",
       "9.3%       5\n",
       "7.6%       5\n",
       "8.6%       4\n",
       "8.1%       4\n",
       "3.7%       4\n",
       "8.4%       3\n",
       "9.8%       3\n",
       "3.2%       3\n",
       "9.1%       3\n",
       "2.7%       2\n",
       "8.9%       2\n",
       "12.0%      1\n",
       "12.8%      1\n",
       "0.1%       1\n",
       "2.8%       1\n",
       "9.4%       1\n",
       "3.4%       1\n",
       "10.0%      1\n",
       "12.5%      1\n",
       "10.4%      1\n",
       "Name: abv, Length: 75, dtype: int64"
      ]
     },
     "execution_count": 18,
     "metadata": {},
     "output_type": "execute_result"
    }
   ],
   "source": [
    "craft_cans.abv.value_counts()"
   ]
  },
  {
   "cell_type": "code",
   "execution_count": 28,
   "metadata": {
    "collapsed": false
   },
   "outputs": [],
   "source": [
    "craft_cans = craft_cans[(craft_cans.abv != '???')].copy()\n",
    "\n",
    "states = []\n",
    "for location in craft_cans.brewery_location:\n",
    "    state = location.split(', ')[1]\n",
    "    states.append(state)\n",
    "craft_cans['state'] = states"
   ]
  },
  {
   "cell_type": "code",
   "execution_count": 31,
   "metadata": {
    "collapsed": false
   },
   "outputs": [],
   "source": [
    "craft_cans.state.value_counts()\n",
    "craft_cans = pd.concat([craft_cans, pd.get_dummies(craft_cans.state, prefix='state_')])"
   ]
  },
  {
   "cell_type": "code",
   "execution_count": 29,
   "metadata": {
    "collapsed": false
   },
   "outputs": [],
   "source": [
    "abv_float = [float(x.replace('%','')) for x in craft_cans.abv]\n",
    "craft_cans['abv_clean'] = abv_float"
   ]
  },
  {
   "cell_type": "code",
   "execution_count": null,
   "metadata": {
    "collapsed": true
   },
   "outputs": [],
   "source": [
    "craft_cans.to_csv('./data/beers.csv',encoding='utf-8')"
   ]
  },
  {
   "cell_type": "code",
   "execution_count": 142,
   "metadata": {
    "collapsed": false
   },
   "outputs": [
    {
     "data": {
      "image/png": "[encoded data removed]",
      "text/plain": [
       "<matplotlib.figure.Figure at 0x11f2517d0>"
      ]
     },
     "metadata": {},
     "output_type": "display_data"
    }
   ],
   "source": [
    "plt.scatter(x=craft_cans.ibu_clean, y=craft_cans.abv_clean);"
   ]
  },
  {
   "cell_type": "code",
   "execution_count": 137,
   "metadata": {
    "collapsed": false,
    "scrolled": true
   },
   "outputs": [
    {
     "data": {
      "text/plain": [
       "abv                  object\n",
       "brewery_location     object\n",
       "brewery_name         object\n",
       "ibu                  object\n",
       "id                    int64\n",
       "name                 object\n",
       "size                 object\n",
       "style                object\n",
       "ibu_clean           float64\n",
       "abv_clean           float64\n",
       "dtype: object"
      ]
     },
     "execution_count": 137,
     "metadata": {},
     "output_type": "execute_result"
    }
   ],
   "source": [
    "craft_cans.dtypes"
   ]
  },
  {
   "cell_type": "code",
   "execution_count": 3,
   "metadata": {
    "collapsed": false,
    "scrolled": true
   },
   "outputs": [
    {
     "data": {
      "text/html": [
       "<div>\n",
       "<style>\n",
       "    .dataframe thead tr:only-child th {\n",
       "        text-align: right;\n",
       "    }\n",
       "\n",
       "    .dataframe thead th {\n",
       "        text-align: left;\n",
       "    }\n",
       "\n",
       "    .dataframe tbody tr th {\n",
       "        vertical-align: top;\n",
       "    }\n",
       "</style>\n",
       "<table border=\"1\" class=\"dataframe\">\n",
       "  <thead>\n",
       "    <tr style=\"text-align: right;\">\n",
       "      <th></th>\n",
       "      <th>abv</th>\n",
       "      <th>brewery_location</th>\n",
       "      <th>brewery_name</th>\n",
       "      <th>ibu</th>\n",
       "      <th>id</th>\n",
       "      <th>name</th>\n",
       "      <th>size</th>\n",
       "      <th>style</th>\n",
       "      <th>ibu_clean</th>\n",
       "      <th>abv_clean</th>\n",
       "      <th>state</th>\n",
       "    </tr>\n",
       "  </thead>\n",
       "  <tbody>\n",
       "    <tr>\n",
       "      <th>0</th>\n",
       "      <td>5.0%</td>\n",
       "      <td>Chandler, AZ</td>\n",
       "      <td>SanTan Brewing Company</td>\n",
       "      <td>20.0</td>\n",
       "      <td>2707</td>\n",
       "      <td>Mr. Pineapple</td>\n",
       "      <td>12 oz.</td>\n",
       "      <td>Wheat Ale</td>\n",
       "      <td>20.000000</td>\n",
       "      <td>5.0</td>\n",
       "      <td>AZ</td>\n",
       "    </tr>\n",
       "    <tr>\n",
       "      <th>1</th>\n",
       "      <td>8.2%</td>\n",
       "      <td>Cincinnati, OH</td>\n",
       "      <td>Christian Moerlein Brewing Company</td>\n",
       "      <td>70.0</td>\n",
       "      <td>2706</td>\n",
       "      <td>Handle Bar (Current)</td>\n",
       "      <td>12 oz.</td>\n",
       "      <td>American Stout</td>\n",
       "      <td>70.000000</td>\n",
       "      <td>8.2</td>\n",
       "      <td>OH</td>\n",
       "    </tr>\n",
       "    <tr>\n",
       "      <th>2</th>\n",
       "      <td>5.0%</td>\n",
       "      <td>Forest, VA</td>\n",
       "      <td>Apocalypse Ale Works</td>\n",
       "      <td>18.0</td>\n",
       "      <td>2705</td>\n",
       "      <td>Golden Censer</td>\n",
       "      <td>12 oz.</td>\n",
       "      <td>Wheat Ale</td>\n",
       "      <td>18.000000</td>\n",
       "      <td>5.0</td>\n",
       "      <td>VA</td>\n",
       "    </tr>\n",
       "    <tr>\n",
       "      <th>3</th>\n",
       "      <td>6.2%</td>\n",
       "      <td>Manassas, VA</td>\n",
       "      <td>Heritage Brewing Company</td>\n",
       "      <td>NaN</td>\n",
       "      <td>2704</td>\n",
       "      <td>Freedom Isn't Free</td>\n",
       "      <td>12 oz.</td>\n",
       "      <td>American IPA</td>\n",
       "      <td>67.634551</td>\n",
       "      <td>6.2</td>\n",
       "      <td>VA</td>\n",
       "    </tr>\n",
       "    <tr>\n",
       "      <th>4</th>\n",
       "      <td>7.4%</td>\n",
       "      <td>Manassas, VA</td>\n",
       "      <td>Heritage Brewing Company</td>\n",
       "      <td>115.0</td>\n",
       "      <td>2703</td>\n",
       "      <td>Kings Mountain</td>\n",
       "      <td>12 oz.</td>\n",
       "      <td>Scottish Ale</td>\n",
       "      <td>115.000000</td>\n",
       "      <td>7.4</td>\n",
       "      <td>VA</td>\n",
       "    </tr>\n",
       "  </tbody>\n",
       "</table>\n",
       "</div>"
      ],
      "text/plain": [
       "    abv brewery_location                        brewery_name    ibu    id  \\\n",
       "0  5.0%     Chandler, AZ              SanTan Brewing Company   20.0  2707   \n",
       "1  8.2%   Cincinnati, OH  Christian Moerlein Brewing Company   70.0  2706   \n",
       "2  5.0%       Forest, VA                Apocalypse Ale Works   18.0  2705   \n",
       "3  6.2%     Manassas, VA            Heritage Brewing Company    NaN  2704   \n",
       "4  7.4%     Manassas, VA            Heritage Brewing Company  115.0  2703   \n",
       "\n",
       "                   name    size           style   ibu_clean  abv_clean state  \n",
       "0         Mr. Pineapple  12 oz.       Wheat Ale   20.000000        5.0    AZ  \n",
       "1  Handle Bar (Current)  12 oz.  American Stout   70.000000        8.2    OH  \n",
       "2         Golden Censer  12 oz.       Wheat Ale   18.000000        5.0    VA  \n",
       "3    Freedom Isn't Free  12 oz.    American IPA   67.634551        6.2    VA  \n",
       "4        Kings Mountain  12 oz.    Scottish Ale  115.000000        7.4    VA  "
      ]
     },
     "execution_count": 3,
     "metadata": {},
     "output_type": "execute_result"
    }
   ],
   "source": [
    "craft_cans = pd.read_csv('./data/beers.csv',index_col=0)\n",
    "craft_cans.head()"
   ]
  },
  {
   "cell_type": "code",
   "execution_count": 4,
   "metadata": {
    "collapsed": false
   },
   "outputs": [
    {
     "name": "stderr",
     "output_type": "stream",
     "text": [
      "100%|██████████| 2362/2362 [23:49<00:00,  1.60it/s]\n"
     ]
    },
    {
     "data": {
      "text/html": [
       "<div>\n",
       "<style>\n",
       "    .dataframe thead tr:only-child th {\n",
       "        text-align: right;\n",
       "    }\n",
       "\n",
       "    .dataframe thead th {\n",
       "        text-align: left;\n",
       "    }\n",
       "\n",
       "    .dataframe tbody tr th {\n",
       "        vertical-align: top;\n",
       "    }\n",
       "</style>\n",
       "<table border=\"1\" class=\"dataframe\">\n",
       "  <thead>\n",
       "    <tr style=\"text-align: right;\">\n",
       "      <th></th>\n",
       "      <th>r8_beer_name</th>\n",
       "      <th>r8_beer_style</th>\n",
       "      <th>r8_beer_parent_style</th>\n",
       "      <th>r8_beer_overall_score</th>\n",
       "      <th>r8_beer_avg_rating</th>\n",
       "    </tr>\n",
       "  </thead>\n",
       "  <tbody>\n",
       "    <tr>\n",
       "      <th>0</th>\n",
       "      <td>SanTan Mr. Pineapple</td>\n",
       "      <td>Wheat Ale</td>\n",
       "      <td>Wheat Beer</td>\n",
       "      <td>52.0589</td>\n",
       "      <td>3.21585</td>\n",
       "    </tr>\n",
       "    <tr>\n",
       "      <th>1</th>\n",
       "      <td>N/A</td>\n",
       "      <td>N/A</td>\n",
       "      <td>N/A</td>\n",
       "      <td>NaN</td>\n",
       "      <td>NaN</td>\n",
       "    </tr>\n",
       "    <tr>\n",
       "      <th>2</th>\n",
       "      <td>Apocalypse Ale Works Golden Censer</td>\n",
       "      <td>Wheat Ale</td>\n",
       "      <td>Wheat Beer</td>\n",
       "      <td>48.2978</td>\n",
       "      <td>3.18732</td>\n",
       "    </tr>\n",
       "    <tr>\n",
       "      <th>3</th>\n",
       "      <td>N/A</td>\n",
       "      <td>India Pale Ale (IPA)</td>\n",
       "      <td>Anglo-American Ales</td>\n",
       "      <td>36.8753</td>\n",
       "      <td>3.01639</td>\n",
       "    </tr>\n",
       "    <tr>\n",
       "      <th>4</th>\n",
       "      <td>Heritage Kings Mountain</td>\n",
       "      <td>Scotch Ale</td>\n",
       "      <td>Anglo-American Ales</td>\n",
       "      <td>49.6827</td>\n",
       "      <td>3.20731</td>\n",
       "    </tr>\n",
       "  </tbody>\n",
       "</table>\n",
       "</div>"
      ],
      "text/plain": [
       "                         r8_beer_name         r8_beer_style  \\\n",
       "0                SanTan Mr. Pineapple             Wheat Ale   \n",
       "1                                 N/A                   N/A   \n",
       "2  Apocalypse Ale Works Golden Censer             Wheat Ale   \n",
       "3                                 N/A  India Pale Ale (IPA)   \n",
       "4             Heritage Kings Mountain            Scotch Ale   \n",
       "\n",
       "  r8_beer_parent_style r8_beer_overall_score r8_beer_avg_rating  \n",
       "0           Wheat Beer               52.0589            3.21585  \n",
       "1                  N/A                   NaN                NaN  \n",
       "2           Wheat Beer               48.2978            3.18732  \n",
       "3  Anglo-American Ales               36.8753            3.01639  \n",
       "4  Anglo-American Ales               49.6827            3.20731  "
      ]
     },
     "execution_count": 4,
     "metadata": {},
     "output_type": "execute_result"
    }
   ],
   "source": [
    "header = {'x-api-key':'8BhI6I8moq7tBc75pyNeb63FgcT3sHlI8CiMaIHF'}\n",
    "\n",
    "all_beers = []\n",
    "\n",
    "for beer in tqdm(craft_cans.name):\n",
    "    #print beer\n",
    "    ind = \"query {\\n beerSearch(query:\" + \"\\\"\" + beer + \"\\\") {\\n items {\\n id\\n name\\n abv\\n isRetired\\n styleScore\\n overallScore\\n averageRating\\n ratingCount\\n style {\\n id\\n name\\n parent {\\n id\\n name\\n}\\n}\\n brewer {\\n id\\n name\\n city\\n state {\\n id\\n name\\n}\\n score\\n}\\n}\\n totalCount\\n last\\n}\\n}\"\n",
    "    data = {\"query\":ind}\n",
    "    r = requests.post('https://api.r8.beer/v1/api/graphql', data=data, headers=header)\n",
    "    response = r.json()\n",
    "    try:\n",
    "        try:\n",
    "            name = str(response['data']['beerSearch']['items'][0]['name'])\n",
    "        except:\n",
    "            name = 'N/A'\n",
    "        try:\n",
    "            style = str(response['data']['beerSearch']['items'][0]['style']['name'])\n",
    "        except:\n",
    "            style = 'N/A'\n",
    "        try:\n",
    "            parent_style = str(response['data']['beerSearch']['items'][0]['style']['parent']['name'])\n",
    "        except:\n",
    "            parent_style = 'N/A'\n",
    "        try:\n",
    "            overall_score = response['data']['beerSearch']['items'][0]['overallScore']\n",
    "        except:\n",
    "            overall_score = np.nan\n",
    "        try:\n",
    "            avg_rating = response['data']['beerSearch']['items'][0]['averageRating']\n",
    "        except:\n",
    "            avg_rating = np.nan\n",
    "        this_beer = [name,style,parent_style,overall_score,avg_rating]\n",
    "        all_beers.append(this_beer)\n",
    "    except:\n",
    "        pass\n",
    "        #print \"Skipping this beer: \", beer\n",
    "    \n",
    "rating_cols = ['r8_beer_name','r8_beer_style','r8_beer_parent_style','r8_beer_overall_score','r8_beer_avg_rating']\n",
    "beer_ratings = pd.DataFrame(data=np.array(all_beers), columns=rating_cols)\n",
    "\n",
    "beer_ratings.head()\n",
    "    "
   ]
  },
  {
   "cell_type": "code",
   "execution_count": 10,
   "metadata": {
    "collapsed": false
   },
   "outputs": [],
   "source": [
    "rated_beers = pd.concat([craft_cans,beer_ratings],axis=1)\n",
    "rated_beers.r8_beer_overall_score = rated_beers.r8_beer_overall_score.astype(float)\n",
    "rated_beers.r8_beer_avg_rating = rated_beers.r8_beer_avg_rating.astype(float)"
   ]
  },
  {
   "cell_type": "code",
   "execution_count": 6,
   "metadata": {
    "collapsed": false
   },
   "outputs": [],
   "source": [
    "rated_beers.to_csv('./data/beers_w_ratings.csv')"
   ]
  },
  {
   "cell_type": "markdown",
   "metadata": {},
   "source": [
    "# Analysis of Quality by State (Geographic Region)\n",
    "---\n",
    "This section will consider the relationship between brewery geographic location and quality, as well as some analysis of the relationship between beer metrics and beer quality grouped by state."
   ]
  },
  {
   "cell_type": "code",
   "execution_count": 3,
   "metadata": {
    "collapsed": true
   },
   "outputs": [],
   "source": [
    "rated_beers = pd.read_csv('./data/beers_w_ratings.csv',index_col=0)"
   ]
  },
  {
   "cell_type": "code",
   "execution_count": 4,
   "metadata": {
    "collapsed": false
   },
   "outputs": [
    {
     "data": {
      "text/html": [
       "<div>\n",
       "<style>\n",
       "    .dataframe thead tr:only-child th {\n",
       "        text-align: right;\n",
       "    }\n",
       "\n",
       "    .dataframe thead th {\n",
       "        text-align: left;\n",
       "    }\n",
       "\n",
       "    .dataframe tbody tr th {\n",
       "        vertical-align: top;\n",
       "    }\n",
       "</style>\n",
       "<table border=\"1\" class=\"dataframe\">\n",
       "  <thead>\n",
       "    <tr style=\"text-align: right;\">\n",
       "      <th></th>\n",
       "      <th>r8_beer_avg_rating</th>\n",
       "    </tr>\n",
       "    <tr>\n",
       "      <th>state</th>\n",
       "      <th></th>\n",
       "    </tr>\n",
       "  </thead>\n",
       "  <tbody>\n",
       "    <tr>\n",
       "      <th>AK</th>\n",
       "      <td>3.280919</td>\n",
       "    </tr>\n",
       "    <tr>\n",
       "      <th>AL</th>\n",
       "      <td>3.258320</td>\n",
       "    </tr>\n",
       "    <tr>\n",
       "      <th>AR</th>\n",
       "      <td>3.130284</td>\n",
       "    </tr>\n",
       "    <tr>\n",
       "      <th>AZ</th>\n",
       "      <td>2.951510</td>\n",
       "    </tr>\n",
       "    <tr>\n",
       "      <th>CA</th>\n",
       "      <td>3.220200</td>\n",
       "    </tr>\n",
       "  </tbody>\n",
       "</table>\n",
       "</div>"
      ],
      "text/plain": [
       "       r8_beer_avg_rating\n",
       "state                    \n",
       "AK               3.280919\n",
       "AL               3.258320\n",
       "AR               3.130284\n",
       "AZ               2.951510\n",
       "CA               3.220200"
      ]
     },
     "execution_count": 4,
     "metadata": {},
     "output_type": "execute_result"
    }
   ],
   "source": [
    "state_avg_scores = pd.DataFrame(rated_beers.groupby('state',sort=True).r8_beer_overall_score.mean())\n",
    "state_avg_ratings = pd.DataFrame(rated_beers.groupby('state',sort=True).r8_beer_avg_rating.mean())\n",
    "\n",
    "state_avg_ratings.head()"
   ]
  },
  {
   "cell_type": "code",
   "execution_count": 5,
   "metadata": {
    "collapsed": false
   },
   "outputs": [
    {
     "data": {
      "text/html": [
       "<div>\n",
       "<style>\n",
       "    .dataframe thead tr:only-child th {\n",
       "        text-align: right;\n",
       "    }\n",
       "\n",
       "    .dataframe thead th {\n",
       "        text-align: left;\n",
       "    }\n",
       "\n",
       "    .dataframe tbody tr th {\n",
       "        vertical-align: top;\n",
       "    }\n",
       "</style>\n",
       "<table border=\"1\" class=\"dataframe\">\n",
       "  <thead>\n",
       "    <tr style=\"text-align: right;\">\n",
       "      <th></th>\n",
       "      <th>r8_beer_overall_score</th>\n",
       "      <th>r8_beer_avg_rating</th>\n",
       "    </tr>\n",
       "    <tr>\n",
       "      <th>state</th>\n",
       "      <th></th>\n",
       "      <th></th>\n",
       "    </tr>\n",
       "  </thead>\n",
       "  <tbody>\n",
       "    <tr>\n",
       "      <th>AK</th>\n",
       "      <td>78.157116</td>\n",
       "      <td>3.280919</td>\n",
       "    </tr>\n",
       "    <tr>\n",
       "      <th>AL</th>\n",
       "      <td>61.157913</td>\n",
       "      <td>3.258320</td>\n",
       "    </tr>\n",
       "    <tr>\n",
       "      <th>AR</th>\n",
       "      <td>50.618308</td>\n",
       "      <td>3.130284</td>\n",
       "    </tr>\n",
       "    <tr>\n",
       "      <th>AZ</th>\n",
       "      <td>52.377481</td>\n",
       "      <td>2.951510</td>\n",
       "    </tr>\n",
       "    <tr>\n",
       "      <th>CA</th>\n",
       "      <td>64.051661</td>\n",
       "      <td>3.220200</td>\n",
       "    </tr>\n",
       "  </tbody>\n",
       "</table>\n",
       "</div>"
      ],
      "text/plain": [
       "       r8_beer_overall_score  r8_beer_avg_rating\n",
       "state                                           \n",
       "AK                 78.157116            3.280919\n",
       "AL                 61.157913            3.258320\n",
       "AR                 50.618308            3.130284\n",
       "AZ                 52.377481            2.951510\n",
       "CA                 64.051661            3.220200"
      ]
     },
     "execution_count": 5,
     "metadata": {},
     "output_type": "execute_result"
    }
   ],
   "source": [
    "state_avgs = state_avg_scores.merge(state_avg_ratings,left_index=True,right_index=True)\n",
    "state_avgs.head()"
   ]
  },
  {
   "cell_type": "code",
   "execution_count": 6,
   "metadata": {
    "collapsed": false
   },
   "outputs": [
    {
     "data": {
      "image/png": "[encoded data removed]",
      "text/plain": [
       "<matplotlib.figure.Figure at 0x1128e5150>"
      ]
     },
     "metadata": {},
     "output_type": "display_data"
    }
   ],
   "source": [
    "sns.distplot((state_avgs.r8_beer_avg_rating.dropna()));\n",
    "plt.title('Distribution of State Avg. Beer Ratings');"
   ]
  },
  {
   "cell_type": "code",
   "execution_count": 7,
   "metadata": {
    "collapsed": false
   },
   "outputs": [
    {
     "data": {
      "image/png": "[encoded data removed]",
      "text/plain": [
       "<matplotlib.figure.Figure at 0x1164b0150>"
      ]
     },
     "metadata": {},
     "output_type": "display_data"
    }
   ],
   "source": [
    "sns.distplot((state_avgs.r8_beer_overall_score.dropna()));\n",
    "plt.title('Distribution of State Avg. Overall Score');"
   ]
  },
  {
   "cell_type": "code",
   "execution_count": 8,
   "metadata": {
    "collapsed": false
   },
   "outputs": [
    {
     "data": {
      "image/png": "[encoded data removed]",
      "text/plain": [
       "<matplotlib.figure.Figure at 0x1164b0e90>"
      ]
     },
     "metadata": {},
     "output_type": "display_data"
    }
   ],
   "source": [
    "plt.scatter(x=state_avgs.r8_beer_avg_rating, y=state_avgs.r8_beer_overall_score);\n",
    "plt.title('Score vs. Rating');\n",
    "plt.xlabel('State Avg Rating');\n",
    "plt.ylabel('State Avg Score');"
   ]
  },
  {
   "cell_type": "code",
   "execution_count": 14,
   "metadata": {
    "collapsed": false
   },
   "outputs": [
    {
     "data": {
      "image/png": "[encoded data removed]",
      "text/plain": [
       "<matplotlib.figure.Figure at 0x1170d6890>"
      ]
     },
     "metadata": {},
     "output_type": "display_data"
    }
   ],
   "source": [
    "top_20_scores = state_avgs.sort_values(by='r8_beer_overall_score', ascending=False).r8_beer_overall_score.iloc[0:20]\n",
    "sns.barplot(x=top_20_scores.index,y=top_20_scores);\n"
   ]
  },
  {
   "cell_type": "markdown",
   "metadata": {},
   "source": [
    "# Correlation in Beer Data"
   ]
  },
  {
   "cell_type": "code",
   "execution_count": 18,
   "metadata": {
    "collapsed": false
   },
   "outputs": [
    {
     "data": {
      "image/png": "[encoded data removed]",
      "text/plain": [
       "<matplotlib.figure.Figure at 0x112a48290>"
      ]
     },
     "metadata": {},
     "output_type": "display_data"
    }
   ],
   "source": [
    "sns.heatmap(rated_beers.corr(),annot=True);"
   ]
  },
  {
   "cell_type": "code",
   "execution_count": null,
   "metadata": {
    "collapsed": true
   },
   "outputs": [],
   "source": []
  }
 ],
 "metadata": {
  "anaconda-cloud": {},
  "kernelspec": {
   "display_name": "Python [python27]",
   "language": "python",
   "name": "Python [python27]"
  },
  "language_info": {
   "codemirror_mode": {
    "name": "ipython",
    "version": 2
   },
   "file_extension": ".py",
   "mimetype": "text/x-python",
   "name": "python",
   "nbconvert_exporter": "python",
   "pygments_lexer": "ipython2",
   "version": "2.7.13"
  }
 },
 "nbformat": 4,
 "nbformat_minor": 2
}
