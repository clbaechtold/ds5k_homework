{
 "cells": [
  {
   "cell_type": "code",
   "execution_count": 143,
   "metadata": {
    "collapsed": false
   },
   "outputs": [],
   "source": [
    "import requests\n",
    "import json\n",
    "import pandas as pd\n",
    "import numpy as np\n",
    "import matplotlib.pyplot as plt\n",
    "import seaborn as sns\n",
    "from urllib import urlopen\n",
    "from bs4 import BeautifulSoup\n",
    "%matplotlib inline\n",
    "\n",
    "plt.style.use('fivethirtyeight')"
   ]
  },
  {
   "cell_type": "code",
   "execution_count": 66,
   "metadata": {
    "collapsed": true
   },
   "outputs": [],
   "source": [
    "html = urlopen(\"http://craftcans.com/db.php?search=all&sort=beerid&ord=desc&view=text\")\n",
    "html_soup = BeautifulSoup(html, 'html.parser')"
   ]
  },
  {
   "cell_type": "code",
   "execution_count": 67,
   "metadata": {
    "collapsed": false
   },
   "outputs": [],
   "source": [
    "rows = html_soup.findAll('tr')"
   ]
  },
  {
   "cell_type": "code",
   "execution_count": 68,
   "metadata": {
    "collapsed": false,
    "scrolled": true
   },
   "outputs": [
    {
     "name": "stdout",
     "output_type": "stream",
     "text": [
      "2439\n"
     ]
    }
   ],
   "source": [
    "print len(rows)"
   ]
  },
  {
   "cell_type": "code",
   "execution_count": 124,
   "metadata": {
    "collapsed": false
   },
   "outputs": [
    {
     "name": "stdout",
     "output_type": "stream",
     "text": [
      "ruh-roh\n"
     ]
    }
   ],
   "source": [
    "beers = []\n",
    "for row in rows:\n",
    "    row.encode('utf-8')\n",
    "    entries = row.findAll('td')\n",
    "    if len(entries) == 8:\n",
    "        id = entries[0].text\n",
    "        id = id[0:len(id)-1]\n",
    "        try:\n",
    "            beer_entry = {\n",
    "                \"id\": int(id),\n",
    "                \"name\": entries[1].text,\n",
    "                \"brewery_name\": entries[2].text,\n",
    "                \"brewery_location\": entries[3].text,\n",
    "                \"style\": entries[4].text,\n",
    "                \"size\": entries[5].text,\n",
    "                \"abv\": entries[6].text,    \n",
    "                \"ibu\": entries[7].text\n",
    "            }\n",
    "            beers.append(beer_entry)\n",
    "        except ValueError:\n",
    "            print 'ruh-roh'"
   ]
  },
  {
   "cell_type": "code",
   "execution_count": 125,
   "metadata": {
    "collapsed": false
   },
   "outputs": [
    {
     "name": "stdout",
     "output_type": "stream",
     "text": [
      "<class 'pandas.core.frame.DataFrame'>\n",
      "RangeIndex: 2424 entries, 0 to 2423\n",
      "Data columns (total 8 columns):\n",
      "abv                 2424 non-null object\n",
      "brewery_location    2424 non-null object\n",
      "brewery_name        2424 non-null object\n",
      "ibu                 2424 non-null object\n",
      "id                  2424 non-null int64\n",
      "name                2424 non-null object\n",
      "size                2424 non-null object\n",
      "style               2424 non-null object\n",
      "dtypes: int64(1), object(7)\n",
      "memory usage: 151.6+ KB\n"
     ]
    }
   ],
   "source": [
    "craft_cans = pd.DataFrame(data=beers)\n",
    "craft_cans.info()"
   ]
  },
  {
   "cell_type": "code",
   "execution_count": 126,
   "metadata": {
    "collapsed": false
   },
   "outputs": [
    {
     "data": {
      "text/html": [
       "<div>\n",
       "<style>\n",
       "    .dataframe thead tr:only-child th {\n",
       "        text-align: right;\n",
       "    }\n",
       "\n",
       "    .dataframe thead th {\n",
       "        text-align: left;\n",
       "    }\n",
       "\n",
       "    .dataframe tbody tr th {\n",
       "        vertical-align: top;\n",
       "    }\n",
       "</style>\n",
       "<table border=\"1\" class=\"dataframe\">\n",
       "  <thead>\n",
       "    <tr style=\"text-align: right;\">\n",
       "      <th></th>\n",
       "      <th>abv</th>\n",
       "      <th>brewery_location</th>\n",
       "      <th>brewery_name</th>\n",
       "      <th>ibu</th>\n",
       "      <th>id</th>\n",
       "      <th>name</th>\n",
       "      <th>size</th>\n",
       "      <th>style</th>\n",
       "    </tr>\n",
       "  </thead>\n",
       "  <tbody>\n",
       "    <tr>\n",
       "      <th>count</th>\n",
       "      <td>2424</td>\n",
       "      <td>2424</td>\n",
       "      <td>2424</td>\n",
       "      <td>2424</td>\n",
       "      <td>2424.000000</td>\n",
       "      <td>2424</td>\n",
       "      <td>2424</td>\n",
       "      <td>2424</td>\n",
       "    </tr>\n",
       "    <tr>\n",
       "      <th>unique</th>\n",
       "      <td>75</td>\n",
       "      <td>404</td>\n",
       "      <td>554</td>\n",
       "      <td>108</td>\n",
       "      <td>NaN</td>\n",
       "      <td>2318</td>\n",
       "      <td>19</td>\n",
       "      <td>100</td>\n",
       "    </tr>\n",
       "    <tr>\n",
       "      <th>top</th>\n",
       "      <td>5.0%</td>\n",
       "      <td>Grand Rapids, MI</td>\n",
       "      <td>Brewery Vivant</td>\n",
       "      <td>N/A</td>\n",
       "      <td>NaN</td>\n",
       "      <td>Nonstop Hef Hop</td>\n",
       "      <td>12 oz.</td>\n",
       "      <td>American IPA</td>\n",
       "    </tr>\n",
       "    <tr>\n",
       "      <th>freq</th>\n",
       "      <td>221</td>\n",
       "      <td>66</td>\n",
       "      <td>62</td>\n",
       "      <td>1010</td>\n",
       "      <td>NaN</td>\n",
       "      <td>12</td>\n",
       "      <td>1482</td>\n",
       "      <td>426</td>\n",
       "    </tr>\n",
       "    <tr>\n",
       "      <th>mean</th>\n",
       "      <td>NaN</td>\n",
       "      <td>NaN</td>\n",
       "      <td>NaN</td>\n",
       "      <td>NaN</td>\n",
       "      <td>1438.483498</td>\n",
       "      <td>NaN</td>\n",
       "      <td>NaN</td>\n",
       "      <td>NaN</td>\n",
       "    </tr>\n",
       "    <tr>\n",
       "      <th>std</th>\n",
       "      <td>NaN</td>\n",
       "      <td>NaN</td>\n",
       "      <td>NaN</td>\n",
       "      <td>NaN</td>\n",
       "      <td>756.488496</td>\n",
       "      <td>NaN</td>\n",
       "      <td>NaN</td>\n",
       "      <td>NaN</td>\n",
       "    </tr>\n",
       "    <tr>\n",
       "      <th>min</th>\n",
       "      <td>NaN</td>\n",
       "      <td>NaN</td>\n",
       "      <td>NaN</td>\n",
       "      <td>NaN</td>\n",
       "      <td>1.000000</td>\n",
       "      <td>NaN</td>\n",
       "      <td>NaN</td>\n",
       "      <td>NaN</td>\n",
       "    </tr>\n",
       "    <tr>\n",
       "      <th>25%</th>\n",
       "      <td>NaN</td>\n",
       "      <td>NaN</td>\n",
       "      <td>NaN</td>\n",
       "      <td>NaN</td>\n",
       "      <td>813.750000</td>\n",
       "      <td>NaN</td>\n",
       "      <td>NaN</td>\n",
       "      <td>NaN</td>\n",
       "    </tr>\n",
       "    <tr>\n",
       "      <th>50%</th>\n",
       "      <td>NaN</td>\n",
       "      <td>NaN</td>\n",
       "      <td>NaN</td>\n",
       "      <td>NaN</td>\n",
       "      <td>1460.500000</td>\n",
       "      <td>NaN</td>\n",
       "      <td>NaN</td>\n",
       "      <td>NaN</td>\n",
       "    </tr>\n",
       "    <tr>\n",
       "      <th>75%</th>\n",
       "      <td>NaN</td>\n",
       "      <td>NaN</td>\n",
       "      <td>NaN</td>\n",
       "      <td>NaN</td>\n",
       "      <td>2086.250000</td>\n",
       "      <td>NaN</td>\n",
       "      <td>NaN</td>\n",
       "      <td>NaN</td>\n",
       "    </tr>\n",
       "    <tr>\n",
       "      <th>max</th>\n",
       "      <td>NaN</td>\n",
       "      <td>NaN</td>\n",
       "      <td>NaN</td>\n",
       "      <td>NaN</td>\n",
       "      <td>2707.000000</td>\n",
       "      <td>NaN</td>\n",
       "      <td>NaN</td>\n",
       "      <td>NaN</td>\n",
       "    </tr>\n",
       "  </tbody>\n",
       "</table>\n",
       "</div>"
      ],
      "text/plain": [
       "         abv  brewery_location    brewery_name   ibu           id  \\\n",
       "count   2424              2424            2424  2424  2424.000000   \n",
       "unique    75               404             554   108          NaN   \n",
       "top     5.0%  Grand Rapids, MI  Brewery Vivant   N/A          NaN   \n",
       "freq     221                66              62  1010          NaN   \n",
       "mean     NaN               NaN             NaN   NaN  1438.483498   \n",
       "std      NaN               NaN             NaN   NaN   756.488496   \n",
       "min      NaN               NaN             NaN   NaN     1.000000   \n",
       "25%      NaN               NaN             NaN   NaN   813.750000   \n",
       "50%      NaN               NaN             NaN   NaN  1460.500000   \n",
       "75%      NaN               NaN             NaN   NaN  2086.250000   \n",
       "max      NaN               NaN             NaN   NaN  2707.000000   \n",
       "\n",
       "                   name    size         style  \n",
       "count              2424    2424          2424  \n",
       "unique             2318      19           100  \n",
       "top     Nonstop Hef Hop  12 oz.  American IPA  \n",
       "freq                 12    1482           426  \n",
       "mean                NaN     NaN           NaN  \n",
       "std                 NaN     NaN           NaN  \n",
       "min                 NaN     NaN           NaN  \n",
       "25%                 NaN     NaN           NaN  \n",
       "50%                 NaN     NaN           NaN  \n",
       "75%                 NaN     NaN           NaN  \n",
       "max                 NaN     NaN           NaN  "
      ]
     },
     "execution_count": 126,
     "metadata": {},
     "output_type": "execute_result"
    }
   ],
   "source": [
    "craft_cans.describe(include='all')"
   ]
  },
  {
   "cell_type": "code",
   "execution_count": 133,
   "metadata": {
    "collapsed": false
   },
   "outputs": [],
   "source": [
    "dropnas = craft_cans.replace('N/A',np.nan).dropna().copy()\n",
    "dropnas.ibu = dropnas.ibu.map(float)\n",
    "style_means = dict(dropnas.groupby('style').ibu.mean())\n",
    "\n",
    "ibus = []\n",
    "for i, ibu in enumerate(craft_cans.ibu):\n",
    "    if ibu == 'N/A':\n",
    "        try:\n",
    "            ibus.append(float(style_means[craft_cans['style'].iloc[i]]))\n",
    "        except KeyError:\n",
    "            ibus.append(0.)\n",
    "    else:\n",
    "        ibus.append(float(ibu))\n",
    "craft_cans['ibu_clean'] = ibus"
   ]
  },
  {
   "cell_type": "code",
   "execution_count": 134,
   "metadata": {
    "collapsed": false,
    "scrolled": true
   },
   "outputs": [
    {
     "data": {
      "text/plain": [
       "5.0%     221\n",
       "5.5%     159\n",
       "6.0%     125\n",
       "6.5%     125\n",
       "5.2%     107\n",
       "7.0%      92\n",
       "4.5%      89\n",
       "4.8%      72\n",
       "5.8%      67\n",
       "5.6%      66\n",
       "5.1%      62\n",
       "6.2%      60\n",
       "5.3%      60\n",
       "4.9%      59\n",
       "8.0%      58\n",
       "4.7%      57\n",
       "5.7%      53\n",
       "6.8%      52\n",
       "5.4%      50\n",
       "7.5%      43\n",
       "6.3%      38\n",
       "4.0%      38\n",
       "4.2%      38\n",
       "7.2%      37\n",
       "9.9%      35\n",
       "5.9%      34\n",
       "4.6%      32\n",
       "6.9%      31\n",
       "8.5%      26\n",
       "6.7%      25\n",
       "        ... \n",
       "9.5%       9\n",
       "4.1%       9\n",
       "7.4%       9\n",
       "8.3%       8\n",
       "7.9%       7\n",
       "3.5%       6\n",
       "3.8%       6\n",
       "8.8%       6\n",
       "9.3%       5\n",
       "9.6%       5\n",
       "9.7%       5\n",
       "7.6%       5\n",
       "8.6%       4\n",
       "8.1%       4\n",
       "3.7%       4\n",
       "9.1%       3\n",
       "3.2%       3\n",
       "9.8%       3\n",
       "8.4%       3\n",
       "8.9%       2\n",
       "2.7%       2\n",
       "10.4%      1\n",
       "9.4%       1\n",
       "10.0%      1\n",
       "12.8%      1\n",
       "3.4%       1\n",
       "0.1%       1\n",
       "12.5%      1\n",
       "2.8%       1\n",
       "12.0%      1\n",
       "Name: abv, Length: 74, dtype: int64"
      ]
     },
     "execution_count": 134,
     "metadata": {},
     "output_type": "execute_result"
    }
   ],
   "source": [
    "craft_cans.abv.value_counts()"
   ]
  },
  {
   "cell_type": "code",
   "execution_count": 135,
   "metadata": {
    "collapsed": false
   },
   "outputs": [],
   "source": [
    "craft_cans = craft_cans[(craft_cans.abv != '???')].copy()"
   ]
  },
  {
   "cell_type": "code",
   "execution_count": 136,
   "metadata": {
    "collapsed": false
   },
   "outputs": [],
   "source": [
    "abv_float = [float(x.replace('%','')) for x in craft_cans.abv]\n",
    "craft_cans['abv_clean'] = abv_float"
   ]
  },
  {
   "cell_type": "code",
   "execution_count": 142,
   "metadata": {
    "collapsed": false
   },
   "outputs": [
    {
     "data": {
      "image/png": "[encoded data removed]",
      "text/plain": [
       "<matplotlib.figure.Figure at 0x11f2517d0>"
      ]
     },
     "metadata": {},
     "output_type": "display_data"
    }
   ],
   "source": [
    "plt.scatter(x=craft_cans.ibu_clean, y=craft_cans.abv_clean);"
   ]
  },
  {
   "cell_type": "code",
   "execution_count": 137,
   "metadata": {
    "collapsed": false
   },
   "outputs": [
    {
     "data": {
      "text/plain": [
       "abv                  object\n",
       "brewery_location     object\n",
       "brewery_name         object\n",
       "ibu                  object\n",
       "id                    int64\n",
       "name                 object\n",
       "size                 object\n",
       "style                object\n",
       "ibu_clean           float64\n",
       "abv_clean           float64\n",
       "dtype: object"
      ]
     },
     "execution_count": 137,
     "metadata": {},
     "output_type": "execute_result"
    }
   ],
   "source": [
    "craft_cans.dtypes"
   ]
  },
  {
   "cell_type": "code",
   "execution_count": 82,
   "metadata": {
    "collapsed": true
   },
   "outputs": [],
   "source": [
    "q = \"query {\\n beersByBrewer(brewerId: \" + str(100) + \", first: 1000) {\\n items {\\n id\\n name\\n styleScore\\n averageRating\\n ratingCount\\n overallScore\\n style {\\n id\\n name\\n parent {\\n id\\n name\\n}\\n}\\n}\\n}\\n}\"\n",
    "data = {\"query\":q}"
   ]
  },
  {
   "cell_type": "code",
   "execution_count": 83,
   "metadata": {
    "collapsed": false
   },
   "outputs": [],
   "source": [
    "header = {'x-api-key':'8BhI6I8moq7tBc75pyNeb63FgcT3sHlI8CiMaIHF'}\n",
    "r = requests.post('https://api.r8.beer/v1/api/graphql', data=data, headers=header)"
   ]
  },
  {
   "cell_type": "code",
   "execution_count": 84,
   "metadata": {
    "collapsed": false
   },
   "outputs": [
    {
     "data": {
      "text/plain": [
       "200"
      ]
     },
     "execution_count": 84,
     "metadata": {},
     "output_type": "execute_result"
    }
   ],
   "source": [
    "r.status_code"
   ]
  },
  {
   "cell_type": "code",
   "execution_count": 85,
   "metadata": {
    "collapsed": false
   },
   "outputs": [],
   "source": [
    "response = r.json()"
   ]
  },
  {
   "cell_type": "code",
   "execution_count": 86,
   "metadata": {
    "collapsed": false
   },
   "outputs": [
    {
     "name": "stdout",
     "output_type": "stream",
     "text": [
      "{u'data': {u'beersByBrewer': {u'items': [{u'style': {u'id': u'3', u'parent': {u'id': u'70', u'name': u'Lagers'}, u'name': u'Pale Lager'}, u'name': u'Iron City Beer', u'styleScore': 22.831449930759916, u'overallScore': 1.4709289228027613, u'ratingCount': 541, u'id': u'616', u'averageRating': 1.8351470232009888}, {u'style': {u'id': u'3', u'parent': {u'id': u'70', u'name': u'Lagers'}, u'name': u'Pale Lager'}, u'name': u'Iron City Light', u'styleScore': 8.329007423775067, u'overallScore': 0.5884757425246581, u'ratingCount': 241, u'id': u'7715', u'averageRating': 1.6565979719161987}, {u'style': {u'id': u'3', u'parent': {u'id': u'70', u'name': u'Lagers'}, u'name': u'Pale Lager'}, u'name': u'Pittsburgh Augustiner Lager', u'styleScore': 88.05583865627241, u'overallScore': 10.050642984149455, u'ratingCount': 69, u'id': u'7629', u'averageRating': 2.4854719638824463}, {u'style': {u'id': u'3', u'parent': {u'id': u'70', u'name': u'Lagers'}, u'name': u'Pale Lager'}, u'name': u'Stoneys Beer', u'styleScore': 67.66987476874043, u'overallScore': 6.737644491957314, u'ratingCount': 64, u'id': u'612', u'averageRating': 2.2374110221862793}, {u'style': {u'id': u'3', u'parent': {u'id': u'70', u'name': u'Lagers'}, u'name': u'Pale Lager'}, u'name': u'American Beer', u'styleScore': 2.7932287264275337, u'overallScore': 0.1471236066107663, u'ratingCount': 61, u'id': u'10389', u'averageRating': 1.440490961074829}, {u'style': {u'id': u'3', u'parent': {u'id': u'70', u'name': u'Lagers'}, u'name': u'Pale Lager'}, u'name': u'Old German Premium Lager', u'styleScore': 25.383159699366185, u'overallScore': 1.7649510676621218, u'ratingCount': 57, u'id': u'7630', u'averageRating': 1.8550209999084473}, {u'style': {u'id': u'36', u'parent': {u'id': u'70', u'name': u'Lagers'}, u'name': u'Amber Lager/Vienna'}, u'name': u'Pittsburgh Augustiner Dark', u'styleScore': 47.262398894808385, u'overallScore': 18.599415110179535, u'ratingCount': 43, u'id': u'11425', u'averageRating': 2.7249650955200195}, {u'style': {u'id': u'75', u'parent': {u'id': u'120', u'name': u'Traditional, Spice, Other'}, u'name': u'Low Alcohol'}, u'name': u'Penns Best NA', u'styleScore': 10.050642984149455, u'overallScore': 0.29424532593878194, u'ratingCount': 40, u'id': u'34110', u'averageRating': 1.5953600406646729}, {u'style': {u'id': u'40', u'parent': {u'id': u'120', u'name': u'Traditional, Spice, Other'}, u'name': u'Fruit Beer'}, u'name': u'Iron City Light Mango', u'styleScore': 10.193344707688558, u'overallScore': 6.737644491957314, u'ratingCount': 35, u'id': u'148588', u'averageRating': 2.239013910293579}, {u'style': {u'id': u'3', u'parent': {u'id': u'70', u'name': u'Lagers'}, u'name': u'Pale Lager'}, u'name': u'Falls City Beer', u'styleScore': 77.24734505809931, u'overallScore': 9.191879963791973, u'ratingCount': 33, u'id': u'12000', u'averageRating': 2.30190110206604}, {u'style': {u'id': u'9', u'parent': {u'id': u'70', u'name': u'Lagers'}, u'name': u'Dunkler Bock'}, u'name': u'Block House Double Chocolate Bock', u'styleScore': 42.263063290737335, u'overallScore': 36.175949470919456, u'ratingCount': 30, u'id': u'296908', u'averageRating': 3.006211996078491}, {u'style': {u'id': u'3', u'parent': {u'id': u'70', u'name': u'Lagers'}, u'name': u'Pale Lager'}, u'name': u'Pittsburgh Sterling', u'styleScore': 36.5, u'overallScore': 5.1, u'ratingCount': 19, u'id': u'11280', u'averageRating': 1.8700000047683716}, {u'style': {u'id': u'3', u'parent': {u'id': u'70', u'name': u'Lagers'}, u'name': u'Pale Lager'}, u'name': u'American Light', u'styleScore': 3.6732585130641073, u'overallScore': 0.29424532593878194, u'ratingCount': 19, u'id': u'23072', u'averageRating': 1.4897929430007935}, {u'style': {u'id': u'36', u'parent': {u'id': u'70', u'name': u'Lagers'}, u'name': u'Amber Lager/Vienna'}, u'name': u'Iron City Amber Classic Lager', u'styleScore': 61.895455057769944, u'overallScore': 25.383159699366185, u'ratingCount': 19, u'id': u'160469', u'averageRating': 2.8530290126800537}, {u'style': {u'id': u'40', u'parent': {u'id': u'120', u'name': u'Traditional, Spice, Other'}, u'name': u'Fruit Beer'}, u'name': u'Block House Summer Break', u'styleScore': 53.96625083391251, u'overallScore': 36.61520753386793, u'ratingCount': 19, u'id': u'332924', u'averageRating': 2.9909350872039795}, {u'style': {u'id': u'3', u'parent': {u'id': u'70', u'name': u'Lagers'}, u'name': u'Pale Lager'}, u'name': u'J.J. Wainwrights Hogs Breath', u'styleScore': 82.09763141929186, u'overallScore': 13.018700980982894, u'ratingCount': 14, u'id': u'9406', u'averageRating': 2.352781057357788}, {u'style': {u'id': u'57', u'parent': {u'id': u'120', u'name': u'Traditional, Spice, Other'}, u'name': u'Spice/Herb/Vegetable'}, u'name': u'Block House Pumpkin Ale', u'styleScore': 42.60231768187837, u'overallScore': 35.819375712015145, u'ratingCount': 14, u'id': u'282564', u'averageRating': 2.9888880252838135}, {u'style': {u'id': u'3', u'parent': {u'id': u'70', u'name': u'Lagers'}, u'name': u'Pale Lager'}, u'name': u'Drummond Brothers', u'styleScore': 77.24734505809931, u'overallScore': 11.47178654744324, u'ratingCount': 13, u'id': u'12245', u'averageRating': 2.297960042953491}, {u'style': {u'id': u'3', u'parent': {u'id': u'70', u'name': u'Lagers'}, u'name': u'Pale Lager'}, u'name': u'Totally Dirt Cheap Premium Beer', u'styleScore': 45.078833878238115, u'overallScore': 5.573742501849477, u'ratingCount': 12, u'id': u'23313', u'averageRating': 2.0644690990448}, {u'style': {u'id': u'36', u'parent': {u'id': u'70', u'name': u'Lagers'}, u'name': u'Amber Lager/Vienna'}, u'name': u'J.J. Wainwrights Evil Eye Honey Brown', u'styleScore': 5.9, u'overallScore': 4.8, u'ratingCount': 10, u'id': u'24070', u'averageRating': 1.8799999952316284}, {u'style': {u'id': u'57', u'parent': {u'id': u'120', u'name': u'Traditional, Spice, Other'}, u'name': u'Spice/Herb/Vegetable'}, u'name': u'Red Hot Iron', u'styleScore': 17.936517593220128, u'overallScore': 14.546426168509916, u'ratingCount': 10, u'id': u'307206', u'averageRating': 2.6501240730285645}, {u'style': {u'id': u'36', u'parent': {u'id': u'70', u'name': u'Lagers'}, u'name': u'Amber Lager/Vienna'}, u'name': u'Gerst Amber Lager (Iron City)', u'styleScore': 72.33245943664869, u'overallScore': 39.261023361795615, u'ratingCount': 9, u'id': u'24115', u'averageRating': 2.9212329387664795}, {u'style': {u'id': u'3', u'parent': {u'id': u'70', u'name': u'Lagers'}, u'name': u'Pale Lager'}, u'name': u'J.J. Wainwrights First Brewing Select Lager Beer', u'styleScore': 0, u'overallScore': 0, u'ratingCount': 7, u'id': u'14395', u'averageRating': 2.430000066757202}, {u'style': {u'id': u'62', u'parent': {u'id': u'67', u'name': u'Anglo-American Ales'}, u'name': u'Irish Ale'}, u'name': u'Block House Imperial Red Ale', u'styleScore': None, u'overallScore': None, u'ratingCount': 7, u'id': u'371199', u'averageRating': 2.9162650108337402}, {u'style': {u'id': u'3', u'parent': {u'id': u'70', u'name': u'Lagers'}, u'name': u'Pale Lager'}, u'name': u'Stoneys Light', u'styleScore': None, u'overallScore': None, u'ratingCount': 6, u'id': u'613', u'averageRating': 2.475097894668579}, {u'style': {u'id': u'3', u'parent': {u'id': u'70', u'name': u'Lagers'}, u'name': u'Pale Lager'}, u'name': u'American Ice', u'styleScore': 0, u'overallScore': 0, u'ratingCount': 6, u'id': u'32601', u'averageRating': 1.7300000190734863}, {u'style': {u'id': u'53', u'parent': {u'id': u'67', u'name': u'Anglo-American Ales'}, u'name': u'Amber Ale'}, u'name': u'J.J. Wainwrights Evil Eye Ale', u'styleScore': None, u'overallScore': None, u'ratingCount': 5, u'id': u'14394', u'averageRating': 2.6559360027313232}, {u'style': {u'id': u'8', u'parent': {u'id': u'70', u'name': u'Lagers'}, u'name': u'Malt Liquor'}, u'name': u'The Eagle', u'styleScore': 0, u'overallScore': 0, u'ratingCount': 5, u'id': u'19416', u'averageRating': 2.5199999809265137}, {u'style': {u'id': u'3', u'parent': {u'id': u'70', u'name': u'Lagers'}, u'name': u'Pale Lager'}, u'name': u'Brigade Light', u'styleScore': 0, u'overallScore': 0, u'ratingCount': 5, u'id': u'31518', u'averageRating': 1.7999999523162842}, {u'style': {u'id': u'4', u'parent': {u'id': u'70', u'name': u'Lagers'}, u'name': u'Pilsener'}, u'name': u'Pittsburgh Sterling Light', u'styleScore': None, u'overallScore': None, u'ratingCount': 5, u'id': u'50170', u'averageRating': 2.7592649459838867}, {u'style': {u'id': u'37', u'parent': {u'id': u'70', u'name': u'Lagers'}, u'name': u'Oktoberfest/M\\xe4rzen'}, u'name': u'Old German Festival Lager', u'styleScore': None, u'overallScore': None, u'ratingCount': 5, u'id': u'365184', u'averageRating': 2.885556936264038}, {u'style': {u'id': u'40', u'parent': {u'id': u'120', u'name': u'Traditional, Spice, Other'}, u'name': u'Fruit Beer'}, u'name': u'Iron City Light Berry', u'styleScore': None, u'overallScore': None, u'ratingCount': 4, u'id': u'180936', u'averageRating': 2.6217949390411377}, {u'style': {u'id': u'5', u'parent': {u'id': u'68', u'name': u'Stouts and Porters'}, u'name': u'Porter'}, u'name': u'Stoneys Black and Tan', u'styleScore': None, u'overallScore': None, u'ratingCount': 3, u'id': u'615', u'averageRating': 2.890000104904175}, {u'style': {u'id': u'3', u'parent': {u'id': u'70', u'name': u'Lagers'}, u'name': u'Pale Lager'}, u'name': u'Pittsburgh Gold Crown Premium Beer', u'styleScore': None, u'overallScore': None, u'ratingCount': 3, u'id': u'10639', u'averageRating': 2.4928879737854004}, {u'style': {u'id': u'3', u'parent': {u'id': u'70', u'name': u'Lagers'}, u'name': u'Pale Lager'}, u'name': u'Totally Dirt Cheap Premium Light Beer', u'styleScore': 0, u'overallScore': 0, u'ratingCount': 3, u'id': u'23311', u'averageRating': 2.3399999141693115}, {u'style': {u'id': u'8', u'parent': {u'id': u'70', u'name': u'Lagers'}, u'name': u'Malt Liquor'}, u'name': u'Night Flight Malt Liquor', u'styleScore': 0, u'overallScore': 0, u'ratingCount': 3, u'id': u'27121', u'averageRating': 1.899999976158142}, {u'style': {u'id': u'40', u'parent': {u'id': u'120', u'name': u'Traditional, Spice, Other'}, u'name': u'Fruit Beer'}, u'name': u'Hop n Gator', u'styleScore': None, u'overallScore': None, u'ratingCount': 3, u'id': u'58536', u'averageRating': 2.072364091873169}, {u'style': {u'id': u'3', u'parent': {u'id': u'70', u'name': u'Lagers'}, u'name': u'Pale Lager'}, u'name': u'Brigade Premium', u'styleScore': 0, u'overallScore': 0, u'ratingCount': 3, u'id': u'62555', u'averageRating': 2.240000009536743}, {u'style': {u'id': u'123', u'parent': {u'id': u'70', u'name': u'Lagers'}, u'name': u'India Style Lager'}, u'name': u'Block House India Pale Lager', u'styleScore': None, u'overallScore': None, u'ratingCount': 3, u'id': u'330063', u'averageRating': 3.030282974243164}, {u'style': {u'id': u'37', u'parent': {u'id': u'70', u'name': u'Lagers'}, u'name': u'Oktoberfest/M\\xe4rzen'}, u'name': u'Block House Oktoberfest', u'styleScore': None, u'overallScore': None, u'ratingCount': 3, u'id': u'460947', u'averageRating': 2.8663489818573}, {u'style': {u'id': u'17', u'parent': {u'id': u'67', u'name': u'Anglo-American Ales'}, u'name': u'India Pale Ale (IPA)'}, u'name': u'Block House IPA', u'styleScore': None, u'overallScore': None, u'ratingCount': 3, u'id': u'465613', u'averageRating': 2.5235769748687744}, {u'style': {u'id': u'8', u'parent': {u'id': u'70', u'name': u'Lagers'}, u'name': u'Malt Liquor'}, u'name': u'Tornado Pounder Malt Liquor', u'styleScore': None, u'overallScore': None, u'ratingCount': 2, u'id': u'10499', u'averageRating': 1.9299999475479126}, {u'style': {u'id': u'3', u'parent': {u'id': u'70', u'name': u'Lagers'}, u'name': u'Pale Lager'}, u'name': u'Brigade Ice', u'styleScore': 0, u'overallScore': 0, u'ratingCount': 2, u'id': u'23434', u'averageRating': 1.6299999952316284}, {u'style': {u'id': u'3', u'parent': {u'id': u'70', u'name': u'Lagers'}, u'name': u'Pale Lager'}, u'name': u'J.J. Wainwrights First Brewing Light Lager Beer', u'styleScore': 0, u'overallScore': 0, u'ratingCount': 2, u'id': u'31273', u'averageRating': 2.1500000953674316}, {u'style': {u'id': u'3', u'parent': {u'id': u'70', u'name': u'Lagers'}, u'name': u'Pale Lager'}, u'name': u'Cooks Goldblume Light', u'styleScore': 0, u'overallScore': 0, u'ratingCount': 2, u'id': u'59342', u'averageRating': 2.0899999141693115}, {u'style': {u'id': u'3', u'parent': {u'id': u'70', u'name': u'Lagers'}, u'name': u'Pale Lager'}, u'name': u'Night Flight Special Reserve Lager', u'styleScore': 0, u'overallScore': 0, u'ratingCount': 2, u'id': u'62575', u'averageRating': 2.009999990463257}, {u'style': {u'id': u'37', u'parent': {u'id': u'70', u'name': u'Lagers'}, u'name': u'Oktoberfest/M\\xe4rzen'}, u'name': u'Iron City Oktoberfest', u'styleScore': None, u'overallScore': None, u'ratingCount': 1, u'id': u'16818', u'averageRating': 2.430000066757202}, {u'style': {u'id': u'3', u'parent': {u'id': u'70', u'name': u'Lagers'}, u'name': u'Pale Lager'}, u'name': u'Esquire Premium Beer', u'styleScore': None, u'overallScore': None, u'ratingCount': 1, u'id': u'18212', u'averageRating': 2.240000009536743}, {u'style': {u'id': u'3', u'parent': {u'id': u'70', u'name': u'Lagers'}, u'name': u'Pale Lager'}, u'name': u'Drummond Brothers Light', u'styleScore': None, u'overallScore': None, u'ratingCount': 1, u'id': u'30917', u'averageRating': 2.0899999141693115}, {u'style': {u'id': u'8', u'parent': {u'id': u'70', u'name': u'Lagers'}, u'name': u'Malt Liquor'}, u'name': u'Viper HG', u'styleScore': 0, u'overallScore': 0, u'ratingCount': 1, u'id': u'38213', u'averageRating': 2.5399999618530273}, {u'style': {u'id': u'3', u'parent': {u'id': u'70', u'name': u'Lagers'}, u'name': u'Pale Lager'}, u'name': u'I.C. Light', u'styleScore': None, u'overallScore': None, u'ratingCount': 0, u'id': u'617', u'averageRating': None}, {u'style': {u'id': u'36', u'parent': {u'id': u'70', u'name': u'Lagers'}, u'name': u'Amber Lager/Vienna'}, u'name': u'Primanti Bros. Dark Lager', u'styleScore': None, u'overallScore': None, u'ratingCount': 0, u'id': u'25484', u'averageRating': 0}, {u'style': {u'id': u'3', u'parent': {u'id': u'70', u'name': u'Lagers'}, u'name': u'Pale Lager'}, u'name': u'Hogs Breath Lager', u'styleScore': None, u'overallScore': None, u'ratingCount': 0, u'id': u'27095', u'averageRating': 0}, {u'style': {u'id': u'3', u'parent': {u'id': u'70', u'name': u'Lagers'}, u'name': u'Pale Lager'}, u'name': u'Pittsburgh Brigade Premium', u'styleScore': 0, u'overallScore': 0, u'ratingCount': 0, u'id': u'41645', u'averageRating': 0}, {u'style': {u'id': u'3', u'parent': {u'id': u'70', u'name': u'Lagers'}, u'name': u'Pale Lager'}, u'name': u'Olde Frothingslosh', u'styleScore': None, u'overallScore': None, u'ratingCount': 0, u'id': u'73346', u'averageRating': None}, {u'style': {u'id': u'36', u'parent': {u'id': u'70', u'name': u'Lagers'}, u'name': u'Amber Lager/Vienna'}, u'name': u'Dutch Club Dark', u'styleScore': None, u'overallScore': None, u'ratingCount': 0, u'id': u'246284', u'averageRating': 0}]}}}\n"
     ]
    }
   ],
   "source": [
    "print response"
   ]
  },
  {
   "cell_type": "code",
   "execution_count": 81,
   "metadata": {
    "collapsed": false
   },
   "outputs": [
    {
     "name": "stdout",
     "output_type": "stream",
     "text": [
      "Name:  Iron City Beer  | Style:  Pale Lager\n",
      "Name:  Iron City Light  | Style:  Pale Lager\n",
      "Name:  Pittsburgh Augustiner Lager  | Style:  Pale Lager\n",
      "Name:  Stoneys Beer  | Style:  Pale Lager\n",
      "Name:  American Beer  | Style:  Pale Lager\n",
      "Name:  Old German Premium Lager  | Style:  Pale Lager\n",
      "Name:  Pittsburgh Augustiner Dark  | Style:  Amber Lager/Vienna\n",
      "Name:  Penns Best NA  | Style:  Low Alcohol\n",
      "Name:  Iron City Light Mango  | Style:  Fruit Beer\n",
      "Name:  Falls City Beer  | Style:  Pale Lager\n",
      "Name:  Block House Double Chocolate Bock  | Style:  Dunkler Bock\n",
      "Name:  Pittsburgh Sterling  | Style:  Pale Lager\n",
      "Name:  American Light  | Style:  Pale Lager\n",
      "Name:  Iron City Amber Classic Lager  | Style:  Amber Lager/Vienna\n",
      "Name:  Block House Summer Break  | Style:  Fruit Beer\n",
      "Name:  J.J. Wainwrights Hogs Breath  | Style:  Pale Lager\n",
      "Name:  Block House Pumpkin Ale  | Style:  Spice/Herb/Vegetable\n",
      "Name:  Drummond Brothers  | Style:  Pale Lager\n",
      "Name:  Totally Dirt Cheap Premium Beer  | Style:  Pale Lager\n",
      "Name:  J.J. Wainwrights Evil Eye Honey Brown  | Style:  Amber Lager/Vienna\n",
      "Name:  Red Hot Iron  | Style:  Spice/Herb/Vegetable\n",
      "Name:  Gerst Amber Lager (Iron City)  | Style:  Amber Lager/Vienna\n",
      "Name:  J.J. Wainwrights First Brewing Select Lager Beer  | Style:  Pale Lager\n",
      "Name:  Block House Imperial Red Ale  | Style:  Irish Ale\n",
      "Name:  Stoneys Light  | Style:  Pale Lager\n",
      "Name:  American Ice  | Style:  Pale Lager\n",
      "Name:  J.J. Wainwrights Evil Eye Ale  | Style:  Amber Ale\n",
      "Name:  The Eagle  | Style:  Malt Liquor\n",
      "Name:  Brigade Light  | Style:  Pale Lager\n",
      "Name:  Pittsburgh Sterling Light  | Style:  Pilsener\n",
      "Name:  Old German Festival Lager  | Style:  Oktoberfest/Märzen\n",
      "Name:  Iron City Light Berry  | Style:  Fruit Beer\n",
      "Name:  Stoneys Black and Tan  | Style:  Porter\n",
      "Name:  Pittsburgh Gold Crown Premium Beer  | Style:  Pale Lager\n",
      "Name:  Totally Dirt Cheap Premium Light Beer  | Style:  Pale Lager\n",
      "Name:  Night Flight Malt Liquor  | Style:  Malt Liquor\n",
      "Name:  Hop n Gator  | Style:  Fruit Beer\n",
      "Name:  Brigade Premium  | Style:  Pale Lager\n",
      "Name:  Block House India Pale Lager  | Style:  India Style Lager\n",
      "Name:  Block House Oktoberfest  | Style:  Oktoberfest/Märzen\n",
      "Name:  Block House IPA  | Style:  India Pale Ale (IPA)\n",
      "Name:  Tornado Pounder Malt Liquor  | Style:  Malt Liquor\n",
      "Name:  Brigade Ice  | Style:  Pale Lager\n",
      "Name:  J.J. Wainwrights First Brewing Light Lager Beer  | Style:  Pale Lager\n",
      "Name:  Cooks Goldblume Light  | Style:  Pale Lager\n",
      "Name:  Night Flight Special Reserve Lager  | Style:  Pale Lager\n",
      "Name:  Iron City Oktoberfest  | Style:  Oktoberfest/Märzen\n",
      "Name:  Esquire Premium Beer  | Style:  Pale Lager\n",
      "Name:  Drummond Brothers Light  | Style:  Pale Lager\n",
      "Name:  Viper HG  | Style:  Malt Liquor\n",
      "Name:  I.C. Light  | Style:  Pale Lager\n",
      "Name:  Primanti Bros. Dark Lager  | Style:  Amber Lager/Vienna\n",
      "Name:  Hogs Breath Lager  | Style:  Pale Lager\n",
      "Name:  Pittsburgh Brigade Premium  | Style:  Pale Lager\n",
      "Name:  Olde Frothingslosh  | Style:  Pale Lager\n",
      "Name:  Dutch Club Dark  | Style:  Amber Lager/Vienna\n"
     ]
    }
   ],
   "source": [
    "for beer in response['data']['beersByBrewer']['items']:\n",
    "    print 'Name: ', beer['name'], ' | Style: ', beer['style']['name']"
   ]
  },
  {
   "cell_type": "code",
   "execution_count": null,
   "metadata": {
    "collapsed": true
   },
   "outputs": [],
   "source": []
  }
 ],
 "metadata": {
  "anaconda-cloud": {},
  "kernelspec": {
   "display_name": "Python [python27]",
   "language": "python",
   "name": "Python [python27]"
  },
  "language_info": {
   "codemirror_mode": {
    "name": "ipython",
    "version": 2
   },
   "file_extension": ".py",
   "mimetype": "text/x-python",
   "name": "python",
   "nbconvert_exporter": "python",
   "pygments_lexer": "ipython2",
   "version": "2.7.13"
  }
 },
 "nbformat": 4,
 "nbformat_minor": 2
}
