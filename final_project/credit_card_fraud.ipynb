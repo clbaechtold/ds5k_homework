{
 "cells": [
  {
   "cell_type": "markdown",
   "metadata": {},
   "source": [
    "# Detecting Fraudulent Credit Card Activity\n",
    "## Using Imbalanced Data\n",
    "---\n",
    "Raw data pulled from [Kaggle](https://www.kaggle.com/dalpozz/creditcardfraud/data)\n",
    "\n",
    "Original data credited to: Andrea Dal Pozzolo, Olivier Caelen, Reid A. Johnson and Gianluca Bontempi. Calibrating Probability with Undersampling for Unbalanced Classification. In Symposium on Computational Intelligence and Data Mining (CIDM), IEEE, 2015\n",
    "\n",
    "---\n",
    "##### This notebook is broken up three primary sections:\n",
    "* Exploratory Data Analysis\n",
    "* Model Fitting & Tuning\n",
    "* Conclusions"
   ]
  },
  {
   "cell_type": "markdown",
   "metadata": {},
   "source": [
    "# Exploratory Data Analysis"
   ]
  },
  {
   "cell_type": "code",
   "execution_count": 1,
   "metadata": {
    "collapsed": false
   },
   "outputs": [],
   "source": [
    "# Import necessary packages\n",
    "\n",
    "import pandas as pd\n",
    "import numpy as np\n",
    "import seaborn as sns\n",
    "import matplotlib.pyplot as plt\n",
    "from sklearn.linear_model import LogisticRegression\n",
    "from sklearn.ensemble import RandomForestClassifier\n",
    "from sklearn.model_selection import train_test_split, cross_val_score\n",
    "from sklearn.metrics import confusion_matrix, roc_curve, roc_auc_score\n",
    "\n",
    "plt.style.use('fivethirtyeight')\n",
    "%matplotlib inline"
   ]
  },
  {
   "cell_type": "code",
   "execution_count": 2,
   "metadata": {
    "collapsed": false,
    "scrolled": true
   },
   "outputs": [
    {
     "data": {
      "text/html": [
       "<div>\n",
       "<style>\n",
       "    .dataframe thead tr:only-child th {\n",
       "        text-align: right;\n",
       "    }\n",
       "\n",
       "    .dataframe thead th {\n",
       "        text-align: left;\n",
       "    }\n",
       "\n",
       "    .dataframe tbody tr th {\n",
       "        vertical-align: top;\n",
       "    }\n",
       "</style>\n",
       "<table border=\"1\" class=\"dataframe\">\n",
       "  <thead>\n",
       "    <tr style=\"text-align: right;\">\n",
       "      <th></th>\n",
       "      <th>Time</th>\n",
       "      <th>V1</th>\n",
       "      <th>V2</th>\n",
       "      <th>V3</th>\n",
       "      <th>V4</th>\n",
       "      <th>V5</th>\n",
       "      <th>V6</th>\n",
       "      <th>V7</th>\n",
       "      <th>V8</th>\n",
       "      <th>V9</th>\n",
       "      <th>...</th>\n",
       "      <th>V21</th>\n",
       "      <th>V22</th>\n",
       "      <th>V23</th>\n",
       "      <th>V24</th>\n",
       "      <th>V25</th>\n",
       "      <th>V26</th>\n",
       "      <th>V27</th>\n",
       "      <th>V28</th>\n",
       "      <th>Amount</th>\n",
       "      <th>Class</th>\n",
       "    </tr>\n",
       "  </thead>\n",
       "  <tbody>\n",
       "    <tr>\n",
       "      <th>count</th>\n",
       "      <td>284807.000000</td>\n",
       "      <td>2.848070e+05</td>\n",
       "      <td>2.848070e+05</td>\n",
       "      <td>2.848070e+05</td>\n",
       "      <td>2.848070e+05</td>\n",
       "      <td>2.848070e+05</td>\n",
       "      <td>2.848070e+05</td>\n",
       "      <td>2.848070e+05</td>\n",
       "      <td>2.848070e+05</td>\n",
       "      <td>2.848070e+05</td>\n",
       "      <td>...</td>\n",
       "      <td>2.848070e+05</td>\n",
       "      <td>2.848070e+05</td>\n",
       "      <td>2.848070e+05</td>\n",
       "      <td>2.848070e+05</td>\n",
       "      <td>2.848070e+05</td>\n",
       "      <td>2.848070e+05</td>\n",
       "      <td>2.848070e+05</td>\n",
       "      <td>2.848070e+05</td>\n",
       "      <td>284807.000000</td>\n",
       "      <td>284807.000000</td>\n",
       "    </tr>\n",
       "    <tr>\n",
       "      <th>mean</th>\n",
       "      <td>94813.859575</td>\n",
       "      <td>3.919560e-15</td>\n",
       "      <td>5.688174e-16</td>\n",
       "      <td>-8.769071e-15</td>\n",
       "      <td>2.782312e-15</td>\n",
       "      <td>-1.552563e-15</td>\n",
       "      <td>2.010663e-15</td>\n",
       "      <td>-1.694249e-15</td>\n",
       "      <td>-1.927028e-16</td>\n",
       "      <td>-3.137024e-15</td>\n",
       "      <td>...</td>\n",
       "      <td>1.537294e-16</td>\n",
       "      <td>7.959909e-16</td>\n",
       "      <td>5.367590e-16</td>\n",
       "      <td>4.458112e-15</td>\n",
       "      <td>1.453003e-15</td>\n",
       "      <td>1.699104e-15</td>\n",
       "      <td>-3.660161e-16</td>\n",
       "      <td>-1.206049e-16</td>\n",
       "      <td>88.349619</td>\n",
       "      <td>0.001727</td>\n",
       "    </tr>\n",
       "    <tr>\n",
       "      <th>std</th>\n",
       "      <td>47488.145955</td>\n",
       "      <td>1.958696e+00</td>\n",
       "      <td>1.651309e+00</td>\n",
       "      <td>1.516255e+00</td>\n",
       "      <td>1.415869e+00</td>\n",
       "      <td>1.380247e+00</td>\n",
       "      <td>1.332271e+00</td>\n",
       "      <td>1.237094e+00</td>\n",
       "      <td>1.194353e+00</td>\n",
       "      <td>1.098632e+00</td>\n",
       "      <td>...</td>\n",
       "      <td>7.345240e-01</td>\n",
       "      <td>7.257016e-01</td>\n",
       "      <td>6.244603e-01</td>\n",
       "      <td>6.056471e-01</td>\n",
       "      <td>5.212781e-01</td>\n",
       "      <td>4.822270e-01</td>\n",
       "      <td>4.036325e-01</td>\n",
       "      <td>3.300833e-01</td>\n",
       "      <td>250.120109</td>\n",
       "      <td>0.041527</td>\n",
       "    </tr>\n",
       "    <tr>\n",
       "      <th>min</th>\n",
       "      <td>0.000000</td>\n",
       "      <td>-5.640751e+01</td>\n",
       "      <td>-7.271573e+01</td>\n",
       "      <td>-4.832559e+01</td>\n",
       "      <td>-5.683171e+00</td>\n",
       "      <td>-1.137433e+02</td>\n",
       "      <td>-2.616051e+01</td>\n",
       "      <td>-4.355724e+01</td>\n",
       "      <td>-7.321672e+01</td>\n",
       "      <td>-1.343407e+01</td>\n",
       "      <td>...</td>\n",
       "      <td>-3.483038e+01</td>\n",
       "      <td>-1.093314e+01</td>\n",
       "      <td>-4.480774e+01</td>\n",
       "      <td>-2.836627e+00</td>\n",
       "      <td>-1.029540e+01</td>\n",
       "      <td>-2.604551e+00</td>\n",
       "      <td>-2.256568e+01</td>\n",
       "      <td>-1.543008e+01</td>\n",
       "      <td>0.000000</td>\n",
       "      <td>0.000000</td>\n",
       "    </tr>\n",
       "    <tr>\n",
       "      <th>25%</th>\n",
       "      <td>54201.500000</td>\n",
       "      <td>-9.203734e-01</td>\n",
       "      <td>-5.985499e-01</td>\n",
       "      <td>-8.903648e-01</td>\n",
       "      <td>-8.486401e-01</td>\n",
       "      <td>-6.915971e-01</td>\n",
       "      <td>-7.682956e-01</td>\n",
       "      <td>-5.540759e-01</td>\n",
       "      <td>-2.086297e-01</td>\n",
       "      <td>-6.430976e-01</td>\n",
       "      <td>...</td>\n",
       "      <td>-2.283949e-01</td>\n",
       "      <td>-5.423504e-01</td>\n",
       "      <td>-1.618463e-01</td>\n",
       "      <td>-3.545861e-01</td>\n",
       "      <td>-3.171451e-01</td>\n",
       "      <td>-3.269839e-01</td>\n",
       "      <td>-7.083953e-02</td>\n",
       "      <td>-5.295979e-02</td>\n",
       "      <td>5.600000</td>\n",
       "      <td>0.000000</td>\n",
       "    </tr>\n",
       "    <tr>\n",
       "      <th>50%</th>\n",
       "      <td>84692.000000</td>\n",
       "      <td>1.810880e-02</td>\n",
       "      <td>6.548556e-02</td>\n",
       "      <td>1.798463e-01</td>\n",
       "      <td>-1.984653e-02</td>\n",
       "      <td>-5.433583e-02</td>\n",
       "      <td>-2.741871e-01</td>\n",
       "      <td>4.010308e-02</td>\n",
       "      <td>2.235804e-02</td>\n",
       "      <td>-5.142873e-02</td>\n",
       "      <td>...</td>\n",
       "      <td>-2.945017e-02</td>\n",
       "      <td>6.781943e-03</td>\n",
       "      <td>-1.119293e-02</td>\n",
       "      <td>4.097606e-02</td>\n",
       "      <td>1.659350e-02</td>\n",
       "      <td>-5.213911e-02</td>\n",
       "      <td>1.342146e-03</td>\n",
       "      <td>1.124383e-02</td>\n",
       "      <td>22.000000</td>\n",
       "      <td>0.000000</td>\n",
       "    </tr>\n",
       "    <tr>\n",
       "      <th>75%</th>\n",
       "      <td>139320.500000</td>\n",
       "      <td>1.315642e+00</td>\n",
       "      <td>8.037239e-01</td>\n",
       "      <td>1.027196e+00</td>\n",
       "      <td>7.433413e-01</td>\n",
       "      <td>6.119264e-01</td>\n",
       "      <td>3.985649e-01</td>\n",
       "      <td>5.704361e-01</td>\n",
       "      <td>3.273459e-01</td>\n",
       "      <td>5.971390e-01</td>\n",
       "      <td>...</td>\n",
       "      <td>1.863772e-01</td>\n",
       "      <td>5.285536e-01</td>\n",
       "      <td>1.476421e-01</td>\n",
       "      <td>4.395266e-01</td>\n",
       "      <td>3.507156e-01</td>\n",
       "      <td>2.409522e-01</td>\n",
       "      <td>9.104512e-02</td>\n",
       "      <td>7.827995e-02</td>\n",
       "      <td>77.165000</td>\n",
       "      <td>0.000000</td>\n",
       "    </tr>\n",
       "    <tr>\n",
       "      <th>max</th>\n",
       "      <td>172792.000000</td>\n",
       "      <td>2.454930e+00</td>\n",
       "      <td>2.205773e+01</td>\n",
       "      <td>9.382558e+00</td>\n",
       "      <td>1.687534e+01</td>\n",
       "      <td>3.480167e+01</td>\n",
       "      <td>7.330163e+01</td>\n",
       "      <td>1.205895e+02</td>\n",
       "      <td>2.000721e+01</td>\n",
       "      <td>1.559499e+01</td>\n",
       "      <td>...</td>\n",
       "      <td>2.720284e+01</td>\n",
       "      <td>1.050309e+01</td>\n",
       "      <td>2.252841e+01</td>\n",
       "      <td>4.584549e+00</td>\n",
       "      <td>7.519589e+00</td>\n",
       "      <td>3.517346e+00</td>\n",
       "      <td>3.161220e+01</td>\n",
       "      <td>3.384781e+01</td>\n",
       "      <td>25691.160000</td>\n",
       "      <td>1.000000</td>\n",
       "    </tr>\n",
       "  </tbody>\n",
       "</table>\n",
       "<p>8 rows × 31 columns</p>\n",
       "</div>"
      ],
      "text/plain": [
       "                Time            V1            V2            V3            V4  \\\n",
       "count  284807.000000  2.848070e+05  2.848070e+05  2.848070e+05  2.848070e+05   \n",
       "mean    94813.859575  3.919560e-15  5.688174e-16 -8.769071e-15  2.782312e-15   \n",
       "std     47488.145955  1.958696e+00  1.651309e+00  1.516255e+00  1.415869e+00   \n",
       "min         0.000000 -5.640751e+01 -7.271573e+01 -4.832559e+01 -5.683171e+00   \n",
       "25%     54201.500000 -9.203734e-01 -5.985499e-01 -8.903648e-01 -8.486401e-01   \n",
       "50%     84692.000000  1.810880e-02  6.548556e-02  1.798463e-01 -1.984653e-02   \n",
       "75%    139320.500000  1.315642e+00  8.037239e-01  1.027196e+00  7.433413e-01   \n",
       "max    172792.000000  2.454930e+00  2.205773e+01  9.382558e+00  1.687534e+01   \n",
       "\n",
       "                 V5            V6            V7            V8            V9  \\\n",
       "count  2.848070e+05  2.848070e+05  2.848070e+05  2.848070e+05  2.848070e+05   \n",
       "mean  -1.552563e-15  2.010663e-15 -1.694249e-15 -1.927028e-16 -3.137024e-15   \n",
       "std    1.380247e+00  1.332271e+00  1.237094e+00  1.194353e+00  1.098632e+00   \n",
       "min   -1.137433e+02 -2.616051e+01 -4.355724e+01 -7.321672e+01 -1.343407e+01   \n",
       "25%   -6.915971e-01 -7.682956e-01 -5.540759e-01 -2.086297e-01 -6.430976e-01   \n",
       "50%   -5.433583e-02 -2.741871e-01  4.010308e-02  2.235804e-02 -5.142873e-02   \n",
       "75%    6.119264e-01  3.985649e-01  5.704361e-01  3.273459e-01  5.971390e-01   \n",
       "max    3.480167e+01  7.330163e+01  1.205895e+02  2.000721e+01  1.559499e+01   \n",
       "\n",
       "           ...                 V21           V22           V23           V24  \\\n",
       "count      ...        2.848070e+05  2.848070e+05  2.848070e+05  2.848070e+05   \n",
       "mean       ...        1.537294e-16  7.959909e-16  5.367590e-16  4.458112e-15   \n",
       "std        ...        7.345240e-01  7.257016e-01  6.244603e-01  6.056471e-01   \n",
       "min        ...       -3.483038e+01 -1.093314e+01 -4.480774e+01 -2.836627e+00   \n",
       "25%        ...       -2.283949e-01 -5.423504e-01 -1.618463e-01 -3.545861e-01   \n",
       "50%        ...       -2.945017e-02  6.781943e-03 -1.119293e-02  4.097606e-02   \n",
       "75%        ...        1.863772e-01  5.285536e-01  1.476421e-01  4.395266e-01   \n",
       "max        ...        2.720284e+01  1.050309e+01  2.252841e+01  4.584549e+00   \n",
       "\n",
       "                V25           V26           V27           V28         Amount  \\\n",
       "count  2.848070e+05  2.848070e+05  2.848070e+05  2.848070e+05  284807.000000   \n",
       "mean   1.453003e-15  1.699104e-15 -3.660161e-16 -1.206049e-16      88.349619   \n",
       "std    5.212781e-01  4.822270e-01  4.036325e-01  3.300833e-01     250.120109   \n",
       "min   -1.029540e+01 -2.604551e+00 -2.256568e+01 -1.543008e+01       0.000000   \n",
       "25%   -3.171451e-01 -3.269839e-01 -7.083953e-02 -5.295979e-02       5.600000   \n",
       "50%    1.659350e-02 -5.213911e-02  1.342146e-03  1.124383e-02      22.000000   \n",
       "75%    3.507156e-01  2.409522e-01  9.104512e-02  7.827995e-02      77.165000   \n",
       "max    7.519589e+00  3.517346e+00  3.161220e+01  3.384781e+01   25691.160000   \n",
       "\n",
       "               Class  \n",
       "count  284807.000000  \n",
       "mean        0.001727  \n",
       "std         0.041527  \n",
       "min         0.000000  \n",
       "25%         0.000000  \n",
       "50%         0.000000  \n",
       "75%         0.000000  \n",
       "max         1.000000  \n",
       "\n",
       "[8 rows x 31 columns]"
      ]
     },
     "execution_count": 2,
     "metadata": {},
     "output_type": "execute_result"
    }
   ],
   "source": [
    "# Load and describe raw data\n",
    "cc_fraud = pd.read_csv('./data/creditcard.csv')\n",
    "cc_fraud.describe()"
   ]
  },
  {
   "cell_type": "markdown",
   "metadata": {},
   "source": [
    "## Principal Component Analysis (PCA)\n",
    "Unforunately, this data has already been transformed using PCA.  The only original features we can access are the purchase amount ('Amount') and time.  According to the original contributor's this is due to confidentiality agreements with the commercial vendor.  As a result, the above statistical descriptions of the input features are fairly meaningless, in that we have no intuitive method for interpreting these values.\n",
    "\n",
    "In any case, the PCA-transformed will prove to be sufficient for our modeling purposes.  In fact, PCA can be a fairly common unsupervised method for data pre-processing.  The biggest downside is that our model results will give us very little information to conceptually infer what factor's contribute to a purchase's likelihood of being fraudulent."
   ]
  },
  {
   "cell_type": "code",
   "execution_count": 3,
   "metadata": {
    "collapsed": false
   },
   "outputs": [
    {
     "data": {
      "image/png": "[encoded data removed]",
      "text/plain": [
       "<matplotlib.figure.Figure at 0x119b990d0>"
      ]
     },
     "metadata": {},
     "output_type": "display_data"
    }
   ],
   "source": [
    "# Distribution of fraudulent purchase amounts\n",
    "sns.distplot(cc_fraud[(cc_fraud['Class'] == 1)].Amount);\n",
    "plt.title('Distribution of Fraudulent Purchase Amounts');"
   ]
  },
  {
   "cell_type": "code",
   "execution_count": 4,
   "metadata": {
    "collapsed": false
   },
   "outputs": [
    {
     "name": "stdout",
     "output_type": "stream",
     "text": [
      "Target Class Counts: \n",
      "0    284315\n",
      "1       492\n",
      "Name: Class, dtype: int64\n",
      "###################################\n",
      "Target Class %: \n",
      "0    99.827251\n",
      "1     0.172749\n",
      "Name: Class, dtype: float64\n"
     ]
    }
   ],
   "source": [
    "#  Counts/% of Target Classes\n",
    "print 'Target Class Counts: '\n",
    "print cc_fraud['Class'].value_counts()\n",
    "print '###################################'\n",
    "print 'Target Class %: '\n",
    "print (cc_fraud['Class'].value_counts()/len(cc_fraud))*100"
   ]
  },
  {
   "cell_type": "markdown",
   "metadata": {},
   "source": [
    "**As you can see, there is a dramatic class imbalance in our target labels.  Unsurprisingly, far more credit card purchases are legitimate than fraudulent!  We will discuss how to deal with this in the Model Fitting section of this notebook.**\n",
    "\n",
    "While the descriptive statistics of input features above are not particularly meaningful (in terms of interpretation), we can examine the impact that the various principal components may have on our ability to predict our target variable."
   ]
  },
  {
   "cell_type": "code",
   "execution_count": 5,
   "metadata": {
    "collapsed": false,
    "scrolled": true
   },
   "outputs": [
    {
     "data": {
      "image/png": "[encoded data removed]",
      "text/plain": [
       "<matplotlib.figure.Figure at 0x119e6c710>"
      ]
     },
     "metadata": {},
     "output_type": "display_data"
    }
   ],
   "source": [
    "# Plot a heat map of correlation matrix for original data\n",
    "sns.heatmap(cc_fraud.corr());"
   ]
  },
  {
   "cell_type": "markdown",
   "metadata": {},
   "source": [
    "Notice that:\n",
    "* There are several variables that are fairly highly correlated with the class label\n",
    "* None of the input features are highly correlated with one another\n",
    "\n",
    "This second point is a product of the fact that the original data has already been PCA transformed.  By performing PCA on the underlying raw data, the provider has actually transformed the data into an orthnomoral vector space, thereby mnimizing the correlation between transformed input features."
   ]
  },
  {
   "cell_type": "code",
   "execution_count": 6,
   "metadata": {
    "collapsed": false,
    "scrolled": true
   },
   "outputs": [
    {
     "name": "stdout",
     "output_type": "stream",
     "text": [
      "Class     1.000000\n",
      "V17       0.326481\n",
      "V14       0.302544\n",
      "V12       0.260593\n",
      "V10       0.216883\n",
      "V16       0.196539\n",
      "V3        0.192961\n",
      "V7        0.187257\n",
      "V11       0.154876\n",
      "V4        0.133447\n",
      "V18       0.111485\n",
      "V1        0.101347\n",
      "V9        0.097733\n",
      "V5        0.094974\n",
      "V2        0.091289\n",
      "V6        0.043643\n",
      "V21       0.040413\n",
      "V19       0.034783\n",
      "V20       0.020090\n",
      "V8        0.019875\n",
      "V27       0.017580\n",
      "Time      0.012323\n",
      "V28       0.009536\n",
      "V24       0.007221\n",
      "Amount    0.005632\n",
      "V13       0.004570\n",
      "V26       0.004455\n",
      "V15       0.004223\n",
      "V25       0.003308\n",
      "V23       0.002685\n",
      "V22       0.000805\n",
      "Name: Class, dtype: float64\n"
     ]
    }
   ],
   "source": [
    "# Identify highly-correlated (both positively and negatively) variables with target variable\n",
    "corr_ranks = cc_fraud.corr()['Class']\n",
    "ranked = np.abs(corr_ranks).sort_values(ascending=False)\n",
    "print ranked"
   ]
  },
  {
   "cell_type": "markdown",
   "metadata": {},
   "source": [
    "We will iterate through these features ranked by correlation moving forward to determine the optimal input feature set.  By examining these ranked correlation values, however, we anticipate using the first 8-12 input Principal Components to classify fraudulent activities."
   ]
  },
  {
   "cell_type": "markdown",
   "metadata": {},
   "source": [
    "# Model Fitting and Parameter Tuning\n",
    "---\n",
    "\n",
    "In this section, we will consider data pre-processing in order to fit a classification model to the transaction data.  We will also explore several types of predictive models, including Random Forest Classifiers and Logistic Regression."
   ]
  },
  {
   "cell_type": "code",
   "execution_count": 7,
   "metadata": {
    "collapsed": false
   },
   "outputs": [
    {
     "data": {
      "text/plain": [
       "1    250\n",
       "0    250\n",
       "Name: Class, dtype: int64"
      ]
     },
     "execution_count": 7,
     "metadata": {},
     "output_type": "execute_result"
    }
   ],
   "source": [
    "# Create a balanced dataset on which to train/test using an undersampling approach to the legitimate purchase class\n",
    "fraud = cc_fraud[(cc_fraud['Class']==1)]\n",
    "not_fraud = cc_fraud[(cc_fraud['Class']==0)]\n",
    "\n",
    "fraud_sample = fraud.sample(250)\n",
    "not_fraud_sample = not_fraud.sample(250)\n",
    "\n",
    "balanced = fraud_sample.append(not_fraud_sample)\n",
    "balanced['Class'].value_counts()"
   ]
  },
  {
   "cell_type": "code",
   "execution_count": 8,
   "metadata": {
    "collapsed": true
   },
   "outputs": [],
   "source": [
    "# Function to calculate accuracy score, true positive rate, false positive rate, and AUROC for any model/dataset\n",
    "def advanced_metrics(model,x,y):\n",
    "    cfm = confusion_matrix(y,model.predict(x))\n",
    "    print cfm\n",
    "    score = model.score(x,y)\n",
    "    tpr = cfm[1][1]/float(cfm[1][0]+cfm[1][1])\n",
    "    fpr = cfm[0][1]/float(cfm[0][0]+cfm[0][1])\n",
    "    auroc = roc_auc_score(y, model.predict(x))\n",
    "    print 'True Positive Rate: ', tpr\n",
    "    print 'False Positive Rate: ', fpr\n",
    "    print 'Accuracy Score: ', score\n",
    "    print 'AUROC: ', auroc\n",
    "    return score,tpr,fpr,auroc"
   ]
  },
  {
   "cell_type": "markdown",
   "metadata": {},
   "source": [
    "# Logistic Regression\n",
    "---\n",
    "\n",
    "#### Examine the performance of a logistic regression model in trying to identify fraudulent credit card purchases.\n",
    "We will use a preliminary Logistic Regression classifier against various numbers of input features to determine what optimal feature set we will use in future models."
   ]
  },
  {
   "cell_type": "code",
   "execution_count": 38,
   "metadata": {
    "collapsed": false,
    "scrolled": true
   },
   "outputs": [
    {
     "name": "stdout",
     "output_type": "stream",
     "text": [
      "Max AUROC achieved with 9 input features\n"
     ]
    },
    {
     "data": {
      "image/png": "[encoded data removed]",
      "text/plain": [
       "<matplotlib.figure.Figure at 0x11ab12ad0>"
      ]
     },
     "metadata": {},
     "output_type": "display_data"
    }
   ],
   "source": [
    "logit_feat = LogisticRegression()\n",
    "feat_aurocs = []\n",
    "num_feats = []\n",
    "X_feats_train, X_feats_test, y_feats_train, y_feats_test = train_test_split(balanced.drop('Class',axis=1),balanced['Class'],random_state=124)\n",
    "for f in range(1,len(list(ranked.index))):\n",
    "    feats = list(ranked.index[1:f+1])\n",
    "    num_feats.append(len(feats))\n",
    "    logit_feat.fit(X_feats_train[feats],y_feats_train)\n",
    "    feat_aurocs.append(roc_auc_score(y_feats_test,logit_feat.predict(X_feats_test[feats])))\n",
    "\n",
    "opt_num_feats = feat_aurocs.index(max(feat_aurocs))\n",
    "print 'Max AUROC achieved with', opt_num_feats+1, 'input features'\n",
    "plt.plot(num_feats,feat_aurocs);\n",
    "plt.xlabel('Number of Input Features');\n",
    "plt.ylabel('AUROC');\n",
    "plt.title('Preliminary Logistic Regression AUROC');"
   ]
  },
  {
   "cell_type": "code",
   "execution_count": 39,
   "metadata": {
    "collapsed": false
   },
   "outputs": [
    {
     "name": "stdout",
     "output_type": "stream",
     "text": [
      "['V17', 'V14', 'V12', 'V10', 'V16', 'V3', 'V7', 'V11', 'V4']\n"
     ]
    }
   ],
   "source": [
    "top_features = list(ranked.index[1:opt_num_feats+2])\n",
    "print list(top_features)"
   ]
  },
  {
   "cell_type": "markdown",
   "metadata": {},
   "source": [
    "The above Principal Components are the input features we will use.  And just for fun, we are also going to include the Purchase Amount."
   ]
  },
  {
   "cell_type": "code",
   "execution_count": 40,
   "metadata": {
    "collapsed": true
   },
   "outputs": [],
   "source": [
    "top_features.append('Amount')"
   ]
  },
  {
   "cell_type": "code",
   "execution_count": 41,
   "metadata": {
    "collapsed": true
   },
   "outputs": [],
   "source": [
    "# Split data into input and target variables\n",
    "X_all = cc_fraud[top_features]\n",
    "y_all = cc_fraud['Class']\n",
    "\n",
    "# Perform a train/test split on the entire data set for demonstration purposes\n",
    "X_all_train, X_all_test, y_all_train, y_all_test = train_test_split(X_all,y_all,random_state=124)"
   ]
  },
  {
   "cell_type": "code",
   "execution_count": 42,
   "metadata": {
    "collapsed": true
   },
   "outputs": [],
   "source": [
    "# Split balanced sample set into input and target variables\n",
    "# Split into train/test sets\n",
    "X = balanced[top_features]\n",
    "y = balanced['Class']\n",
    "\n",
    "X_train, X_test, y_train, y_test = train_test_split(X,y,test_size=.25,random_state=124)"
   ]
  },
  {
   "cell_type": "markdown",
   "metadata": {},
   "source": [
    "\n",
    "### Unbalanced Classes\n",
    "First, we will consider a classifier trained on the training split of the entire dataset, to include the unbalanced classes."
   ]
  },
  {
   "cell_type": "code",
   "execution_count": 43,
   "metadata": {
    "collapsed": false,
    "scrolled": true
   },
   "outputs": [
    {
     "name": "stdout",
     "output_type": "stream",
     "text": [
      "[[71074     8]\n",
      " [   55    65]]\n",
      "True Positive Rate:  0.541666666667\n",
      "False Positive Rate:  0.000112546073549\n",
      "Accuracy Score:  0.999115193393\n",
      "AUROC:  0.770777060297\n"
     ]
    }
   ],
   "source": [
    "# Initialize model object\n",
    "logit_skewed = LogisticRegression()\n",
    "# Fit to unbalanced training set\n",
    "logit_skewed.fit(X_all_train,y_all_train)\n",
    "# Print performance metrics\n",
    "skew_test_score, skew_test_tpr, skew_test_fpr, skew_test_auroc = advanced_metrics(logit_skewed,X_all_test,y_all_test)"
   ]
  },
  {
   "cell_type": "markdown",
   "metadata": {},
   "source": [
    "**Notice how the accuracy score is very high, but TPR and AUROC are both fairly low.  This is due to the significantly unbalanced classes in the entire dataset.  In fact, the model would achieve a >98% accuracy by simply always classifying purchases as legitimate.**\n",
    "\n",
    "This highlights the need to somehow deal with the class imbalance- our primary strategy will be to undersample the legitimate (0) class to create an even distribution of outcomes in the training and test data.  Moving forward, we will use the train/test split from the sampled balanced dataset (X_train, X_test, y_train, y_test)."
   ]
  },
  {
   "cell_type": "code",
   "execution_count": 44,
   "metadata": {
    "collapsed": false
   },
   "outputs": [
    {
     "data": {
      "text/plain": [
       "LogisticRegression(C=1.0, class_weight=None, dual=False, fit_intercept=True,\n",
       "          intercept_scaling=1, max_iter=100, multi_class='ovr', n_jobs=1,\n",
       "          penalty='l2', random_state=None, solver='liblinear', tol=0.0001,\n",
       "          verbose=0, warm_start=False)"
      ]
     },
     "execution_count": 44,
     "metadata": {},
     "output_type": "execute_result"
    }
   ],
   "source": [
    "# Initialize and fit against balanced training set\n",
    "logit = LogisticRegression()\n",
    "\n",
    "logit.fit(X_train,y_train)"
   ]
  },
  {
   "cell_type": "code",
   "execution_count": 45,
   "metadata": {
    "collapsed": false
   },
   "outputs": [
    {
     "name": "stdout",
     "output_type": "stream",
     "text": [
      "[[68  1]\n",
      " [ 3 53]]\n",
      "True Positive Rate:  0.946428571429\n",
      "False Positive Rate:  0.0144927536232\n",
      "Accuracy Score:  0.968\n",
      "AUROC:  0.965967908903\n"
     ]
    }
   ],
   "source": [
    "# Print accuracy, tpr, fpr, and AUROC against balanced test set\n",
    "logit_test_score, logit_test_tpr, logit_test_fpr, logit_test_auroc = advanced_metrics(logit,X_test,y_test)"
   ]
  },
  {
   "cell_type": "markdown",
   "metadata": {},
   "source": [
    "## Performance Against Entire Dataset\n",
    "Now we turn the Logistic Regression model towards the entire original dataset (not just the class-balanced subset) and consider the logistic regression's performance.  We will consider the True Positive Rate and False Positive Rate of the classifier, along with its accuracy and AUROC."
   ]
  },
  {
   "cell_type": "code",
   "execution_count": 46,
   "metadata": {
    "collapsed": false,
    "scrolled": false
   },
   "outputs": [
    {
     "name": "stdout",
     "output_type": "stream",
     "text": [
      "[[272574  11741]\n",
      " [    40    452]]\n",
      "True Positive Rate:  0.918699186992\n",
      "False Positive Rate:  0.0412957459156\n",
      "Accuracy Score:  0.958635145906\n",
      "AUROC:  0.938701720538\n"
     ]
    }
   ],
   "source": [
    "# Evaluate performance metrics of model trained on balanced training set against the entire original dataset\n",
    "logit_all_score, logit_all_tpr, logit_all_fpr, logit_all_auroc = advanced_metrics(logit,X_all,y_all)"
   ]
  },
  {
   "cell_type": "markdown",
   "metadata": {},
   "source": [
    "### Logistic Regression Coefficients"
   ]
  },
  {
   "cell_type": "code",
   "execution_count": 47,
   "metadata": {
    "collapsed": false,
    "scrolled": true
   },
   "outputs": [
    {
     "data": {
      "text/html": [
       "<div>\n",
       "<style>\n",
       "    .dataframe thead tr:only-child th {\n",
       "        text-align: right;\n",
       "    }\n",
       "\n",
       "    .dataframe thead th {\n",
       "        text-align: left;\n",
       "    }\n",
       "\n",
       "    .dataframe tbody tr th {\n",
       "        vertical-align: top;\n",
       "    }\n",
       "</style>\n",
       "<table border=\"1\" class=\"dataframe\">\n",
       "  <thead>\n",
       "    <tr style=\"text-align: right;\">\n",
       "      <th></th>\n",
       "      <th>Input Feature</th>\n",
       "      <th>Coefficient</th>\n",
       "    </tr>\n",
       "  </thead>\n",
       "  <tbody>\n",
       "    <tr>\n",
       "      <th>0</th>\n",
       "      <td>V17</td>\n",
       "      <td>0.396349</td>\n",
       "    </tr>\n",
       "    <tr>\n",
       "      <th>1</th>\n",
       "      <td>V14</td>\n",
       "      <td>-0.974082</td>\n",
       "    </tr>\n",
       "    <tr>\n",
       "      <th>2</th>\n",
       "      <td>V12</td>\n",
       "      <td>-0.552713</td>\n",
       "    </tr>\n",
       "    <tr>\n",
       "      <th>3</th>\n",
       "      <td>V10</td>\n",
       "      <td>-0.169399</td>\n",
       "    </tr>\n",
       "    <tr>\n",
       "      <th>4</th>\n",
       "      <td>V16</td>\n",
       "      <td>-0.113320</td>\n",
       "    </tr>\n",
       "    <tr>\n",
       "      <th>5</th>\n",
       "      <td>V3</td>\n",
       "      <td>-0.319093</td>\n",
       "    </tr>\n",
       "    <tr>\n",
       "      <th>6</th>\n",
       "      <td>V7</td>\n",
       "      <td>-0.273704</td>\n",
       "    </tr>\n",
       "    <tr>\n",
       "      <th>7</th>\n",
       "      <td>V11</td>\n",
       "      <td>0.354301</td>\n",
       "    </tr>\n",
       "    <tr>\n",
       "      <th>8</th>\n",
       "      <td>V4</td>\n",
       "      <td>0.573340</td>\n",
       "    </tr>\n",
       "    <tr>\n",
       "      <th>9</th>\n",
       "      <td>Amount</td>\n",
       "      <td>0.001892</td>\n",
       "    </tr>\n",
       "  </tbody>\n",
       "</table>\n",
       "</div>"
      ],
      "text/plain": [
       "  Input Feature  Coefficient\n",
       "0           V17     0.396349\n",
       "1           V14    -0.974082\n",
       "2           V12    -0.552713\n",
       "3           V10    -0.169399\n",
       "4           V16    -0.113320\n",
       "5            V3    -0.319093\n",
       "6            V7    -0.273704\n",
       "7           V11     0.354301\n",
       "8            V4     0.573340\n",
       "9        Amount     0.001892"
      ]
     },
     "execution_count": 47,
     "metadata": {},
     "output_type": "execute_result"
    }
   ],
   "source": [
    "coefficients = pd.DataFrame(zip(top_features,logit.coef_[0]),columns=['Input Feature','Coefficient'])\n",
    "coefficients"
   ]
  },
  {
   "cell_type": "markdown",
   "metadata": {},
   "source": [
    "As we can see from the AUROC, TPR, FPR, and accuracy scores above, our logistic regression actually performs fairly well.  It also has the benefit of providing coefficients that we can interpret against our principal components to understand how each of them contributes to the likelihood of a purchase being fraudulent."
   ]
  },
  {
   "cell_type": "markdown",
   "metadata": {},
   "source": [
    "# Random Forest Classifier"
   ]
  },
  {
   "cell_type": "code",
   "execution_count": 49,
   "metadata": {
    "collapsed": false,
    "scrolled": true
   },
   "outputs": [
    {
     "name": "stdout",
     "output_type": "stream",
     "text": [
      "Max Depth:  1\n",
      "[[69  0]\n",
      " [ 8 48]]\n",
      "True Positive Rate:  0.857142857143\n",
      "False Positive Rate:  0.0\n",
      "Accuracy Score:  0.936\n",
      "AUROC:  0.928571428571\n",
      "----------------------------------------------------\n",
      "Max Depth:  2\n",
      "[[68  1]\n",
      " [ 7 49]]\n",
      "True Positive Rate:  0.875\n",
      "False Positive Rate:  0.0144927536232\n",
      "Accuracy Score:  0.936\n",
      "AUROC:  0.930253623188\n",
      "----------------------------------------------------\n",
      "Max Depth:  3\n",
      "[[68  1]\n",
      " [ 5 51]]\n",
      "True Positive Rate:  0.910714285714\n",
      "False Positive Rate:  0.0144927536232\n",
      "Accuracy Score:  0.952\n",
      "AUROC:  0.948110766046\n",
      "----------------------------------------------------\n",
      "Max Depth:  4\n",
      "[[67  2]\n",
      " [ 4 52]]\n",
      "True Positive Rate:  0.928571428571\n",
      "False Positive Rate:  0.0289855072464\n",
      "Accuracy Score:  0.952\n",
      "AUROC:  0.949792960663\n",
      "----------------------------------------------------\n",
      "Max Depth:  5\n",
      "[[68  1]\n",
      " [ 4 52]]\n",
      "True Positive Rate:  0.928571428571\n",
      "False Positive Rate:  0.0144927536232\n",
      "Accuracy Score:  0.96\n",
      "AUROC:  0.957039337474\n",
      "----------------------------------------------------\n",
      "Max Depth:  6\n",
      "[[67  2]\n",
      " [ 4 52]]\n",
      "True Positive Rate:  0.928571428571\n",
      "False Positive Rate:  0.0289855072464\n",
      "Accuracy Score:  0.952\n",
      "AUROC:  0.949792960663\n",
      "----------------------------------------------------\n",
      "Max Depth:  7\n",
      "[[67  2]\n",
      " [ 4 52]]\n",
      "True Positive Rate:  0.928571428571\n",
      "False Positive Rate:  0.0289855072464\n",
      "Accuracy Score:  0.952\n",
      "AUROC:  0.949792960663\n",
      "----------------------------------------------------\n",
      "Max Depth:  8\n",
      "[[64  5]\n",
      " [ 4 52]]\n",
      "True Positive Rate:  0.928571428571\n",
      "False Positive Rate:  0.0724637681159\n",
      "Accuracy Score:  0.928\n",
      "AUROC:  0.928053830228\n",
      "----------------------------------------------------\n",
      "Max Depth:  9\n",
      "[[64  5]\n",
      " [ 4 52]]\n",
      "True Positive Rate:  0.928571428571\n",
      "False Positive Rate:  0.0724637681159\n",
      "Accuracy Score:  0.928\n",
      "AUROC:  0.928053830228\n",
      "----------------------------------------------------\n",
      "Max Depth:  10\n",
      "[[64  5]\n",
      " [ 4 52]]\n",
      "True Positive Rate:  0.928571428571\n",
      "False Positive Rate:  0.0724637681159\n",
      "Accuracy Score:  0.928\n",
      "AUROC:  0.928053830228\n",
      "----------------------------------------------------\n",
      "Max Depth:  11\n",
      "[[64  5]\n",
      " [ 4 52]]\n",
      "True Positive Rate:  0.928571428571\n",
      "False Positive Rate:  0.0724637681159\n",
      "Accuracy Score:  0.928\n",
      "AUROC:  0.928053830228\n",
      "----------------------------------------------------\n",
      "Max Depth:  12\n",
      "[[65  4]\n",
      " [ 4 52]]\n",
      "True Positive Rate:  0.928571428571\n",
      "False Positive Rate:  0.0579710144928\n",
      "Accuracy Score:  0.936\n",
      "AUROC:  0.935300207039\n",
      "----------------------------------------------------\n",
      "Max Depth:  13\n",
      "[[63  6]\n",
      " [ 4 52]]\n",
      "True Positive Rate:  0.928571428571\n",
      "False Positive Rate:  0.0869565217391\n",
      "Accuracy Score:  0.92\n",
      "AUROC:  0.920807453416\n",
      "----------------------------------------------------\n",
      "Max Depth:  14\n",
      "[[65  4]\n",
      " [ 4 52]]\n",
      "True Positive Rate:  0.928571428571\n",
      "False Positive Rate:  0.0579710144928\n",
      "Accuracy Score:  0.936\n",
      "AUROC:  0.935300207039\n",
      "----------------------------------------------------\n",
      "Max Depth:  15\n",
      "[[66  3]\n",
      " [ 4 52]]\n",
      "True Positive Rate:  0.928571428571\n",
      "False Positive Rate:  0.0434782608696\n",
      "Accuracy Score:  0.944\n",
      "AUROC:  0.942546583851\n",
      "----------------------------------------------------\n",
      "Max AUROC achieved at max_depth = 5\n",
      "Max TPR achieved at max_depth = 4\n",
      "Min FPR achieved at max_depth = 1\n"
     ]
    },
    {
     "data": {
      "image/png": "[encoded data removed]",
      "text/plain": [
       "<matplotlib.figure.Figure at 0x11a93e850>"
      ]
     },
     "metadata": {},
     "output_type": "display_data"
    }
   ],
   "source": [
    "# Iterate through a range of max_depth values for the Random Forest Classifier\n",
    "# Output the accuracy, tpr, fpr, and auroc scores against the balanced test set\n",
    "\n",
    "max_depth_range = range(1,16)\n",
    "scores = []\n",
    "fprs = []\n",
    "tprs = []\n",
    "aurocs = []\n",
    "\n",
    "for depth in max_depth_range:\n",
    "    rf_class = RandomForestClassifier(n_estimators=100,criterion='gini',max_depth=depth)\n",
    "    rf_class.fit(X_train,y_train)\n",
    "    y_rf_pred = rf_class.predict(X_test)\n",
    "    score = rf_class.score(X_test,y_test)\n",
    "    print 'Max Depth: ', depth\n",
    "    score,tpr,fpr,auroc  = advanced_metrics(rf_class,X_test,y_test)\n",
    "    print '----------------------------------------------------'\n",
    "    tprs.append(tpr)\n",
    "    fprs.append(fpr)\n",
    "    scores.append(score)\n",
    "    aurocs.append(auroc)\n",
    "\n",
    "print 'Max AUROC achieved at max_depth =', max_depth_range[aurocs.index(max(aurocs))]\n",
    "print 'Max TPR achieved at max_depth =', max_depth_range[tprs.index(max(tprs))]\n",
    "print 'Min FPR achieved at max_depth =', max_depth_range[fprs.index(min(fprs))]\n",
    "\n",
    "depth_to_use = max_depth_range[aurocs.index(max(aurocs))]\n",
    "\n",
    "plt.plot(max_depth_range,scores, label='Accuracy');\n",
    "plt.plot(max_depth_range,tprs, label='True Positive Rate');\n",
    "plt.plot(max_depth_range,fprs, label='False Positive Rate');\n",
    "plt.plot(max_depth_range,aurocs, label='ROC_AUC');\n",
    "plt.xlabel('Max Depth');\n",
    "plt.title('Detecting Fraudulent Credit Card Purchases')\n",
    "plt.ylabel('Accuracy Score/TPR/FPR');\n",
    "plt.legend();"
   ]
  },
  {
   "cell_type": "code",
   "execution_count": 50,
   "metadata": {
    "collapsed": false
   },
   "outputs": [
    {
     "name": "stdout",
     "output_type": "stream",
     "text": [
      "Calculating performance metrics on balanced test dataset...\n",
      "[[67  2]\n",
      " [ 4 52]]\n",
      "True Positive Rate:  0.928571428571\n",
      "False Positive Rate:  0.0289855072464\n",
      "Accuracy Score:  0.952\n",
      "AUROC:  0.949792960663\n",
      "----------------------------------------------------\n",
      "Calculating performance metrics on entire balanced dataset...\n",
      "[[248   2]\n",
      " [ 13 237]]\n",
      "True Positive Rate:  0.948\n",
      "False Positive Rate:  0.008\n",
      "Accuracy Score:  0.97\n",
      "AUROC:  0.97\n",
      "----------------------------------------------------\n",
      "Calculating performance metrics on entire original dataset...\n",
      "[[270517  13798]\n",
      " [    38    454]]\n",
      "True Positive Rate:  0.922764227642\n",
      "False Positive Rate:  0.0485306790004\n",
      "Accuracy Score:  0.951419733363\n",
      "AUROC:  0.937116774321\n"
     ]
    }
   ],
   "source": [
    "rf = RandomForestClassifier(n_estimators=100, max_depth=depth_to_use)\n",
    "# Train against\n",
    "rf.fit(X_train,y_train)\n",
    "print 'Calculating performance metrics on balanced test dataset...'\n",
    "test_score, test_tpr,test_fpr,test_auroc = advanced_metrics(rf,X_test,y_test)\n",
    "print '----------------------------------------------------'\n",
    "print 'Calculating performance metrics on entire balanced dataset...'\n",
    "bal_score,bal_tpr,bal_fpr,bal_auroc = advanced_metrics(rf,X,y)\n",
    "print '----------------------------------------------------'\n",
    "print 'Calculating performance metrics on entire original dataset...'\n",
    "all_score,all_trp,all_fpr,all_auroc = advanced_metrics(rf,X_all,y_all)\n"
   ]
  },
  {
   "cell_type": "markdown",
   "metadata": {},
   "source": [
    "***Notice that for both the balanced training set, as well as the comprehensive entire dataset, this Random Forest classifier performs better than its Logistic Regression counterpart by all relevant measures (>TPR, <=FPR, >AUROC, >Accuracy).***"
   ]
  },
  {
   "cell_type": "code",
   "execution_count": 51,
   "metadata": {
    "collapsed": false
   },
   "outputs": [
    {
     "data": {
      "text/html": [
       "<div>\n",
       "<style>\n",
       "    .dataframe thead tr:only-child th {\n",
       "        text-align: right;\n",
       "    }\n",
       "\n",
       "    .dataframe thead th {\n",
       "        text-align: left;\n",
       "    }\n",
       "\n",
       "    .dataframe tbody tr th {\n",
       "        vertical-align: top;\n",
       "    }\n",
       "</style>\n",
       "<table border=\"1\" class=\"dataframe\">\n",
       "  <thead>\n",
       "    <tr style=\"text-align: right;\">\n",
       "      <th></th>\n",
       "      <th>feature</th>\n",
       "      <th>importance</th>\n",
       "    </tr>\n",
       "  </thead>\n",
       "  <tbody>\n",
       "    <tr>\n",
       "      <th>1</th>\n",
       "      <td>V14</td>\n",
       "      <td>0.305542</td>\n",
       "    </tr>\n",
       "    <tr>\n",
       "      <th>3</th>\n",
       "      <td>V10</td>\n",
       "      <td>0.228370</td>\n",
       "    </tr>\n",
       "    <tr>\n",
       "      <th>7</th>\n",
       "      <td>V11</td>\n",
       "      <td>0.125071</td>\n",
       "    </tr>\n",
       "    <tr>\n",
       "      <th>2</th>\n",
       "      <td>V12</td>\n",
       "      <td>0.081990</td>\n",
       "    </tr>\n",
       "    <tr>\n",
       "      <th>0</th>\n",
       "      <td>V17</td>\n",
       "      <td>0.078183</td>\n",
       "    </tr>\n",
       "    <tr>\n",
       "      <th>5</th>\n",
       "      <td>V3</td>\n",
       "      <td>0.062534</td>\n",
       "    </tr>\n",
       "    <tr>\n",
       "      <th>6</th>\n",
       "      <td>V7</td>\n",
       "      <td>0.039034</td>\n",
       "    </tr>\n",
       "    <tr>\n",
       "      <th>8</th>\n",
       "      <td>V4</td>\n",
       "      <td>0.030130</td>\n",
       "    </tr>\n",
       "    <tr>\n",
       "      <th>4</th>\n",
       "      <td>V16</td>\n",
       "      <td>0.029716</td>\n",
       "    </tr>\n",
       "    <tr>\n",
       "      <th>9</th>\n",
       "      <td>Amount</td>\n",
       "      <td>0.019429</td>\n",
       "    </tr>\n",
       "  </tbody>\n",
       "</table>\n",
       "</div>"
      ],
      "text/plain": [
       "  feature  importance\n",
       "1     V14    0.305542\n",
       "3     V10    0.228370\n",
       "7     V11    0.125071\n",
       "2     V12    0.081990\n",
       "0     V17    0.078183\n",
       "5      V3    0.062534\n",
       "6      V7    0.039034\n",
       "8      V4    0.030130\n",
       "4     V16    0.029716\n",
       "9  Amount    0.019429"
      ]
     },
     "execution_count": 51,
     "metadata": {},
     "output_type": "execute_result"
    }
   ],
   "source": [
    "# Display feature importances.\n",
    "pd.DataFrame({'feature':top_features, 'importance':rf.feature_importances_}).sort_values(by='importance',ascending=False)"
   ]
  },
  {
   "cell_type": "markdown",
   "metadata": {},
   "source": [
    "***Unfortunately, because our data is already PCA transformed,*** the feature importance tells us very little about the influence specific original features have on the likelihood of a purchase being fraudulent or not.  It is interesting to note, however, that the dollar amount is of relatively little importance.  This may go against the intuition that sudden, high $ amount purchases are a good indication of fraudulent activity.  Alternatively, credit card thieves may have realized that primitive fraudulent activity detection mechanisms were prone to missing lots of small purchases, as opposed to a single large purchase."
   ]
  },
  {
   "cell_type": "code",
   "execution_count": 52,
   "metadata": {
    "collapsed": true
   },
   "outputs": [],
   "source": [
    "# Analyze $ Amount distributions across our various prediction classes.\n",
    "rf_data = cc_fraud.copy()\n",
    "rf_data['rf_pred'] = rf.predict(X_all)"
   ]
  },
  {
   "cell_type": "code",
   "execution_count": 53,
   "metadata": {
    "collapsed": false
   },
   "outputs": [
    {
     "data": {
      "image/png": "[encoded data removed]",
      "text/plain": [
       "<matplotlib.figure.Figure at 0x10ed22550>"
      ]
     },
     "metadata": {},
     "output_type": "display_data"
    }
   ],
   "source": [
    "sns.boxplot(rf_data.Amount);\n",
    "plt.title('$ Amount Distribution');"
   ]
  },
  {
   "cell_type": "code",
   "execution_count": 54,
   "metadata": {
    "collapsed": false,
    "scrolled": true
   },
   "outputs": [
    {
     "data": {
      "image/png": "[encoded data removed]",
      "text/plain": [
       "<matplotlib.figure.Figure at 0x119e93190>"
      ]
     },
     "metadata": {},
     "output_type": "display_data"
    }
   ],
   "source": [
    "fps = rf_data[(rf_data.rf_pred == 1) & (rf_data['Class'] == 0)]\n",
    "sns.boxplot(fps.Amount);\n",
    "plt.title('$ Amount of False Positive Predictions');"
   ]
  },
  {
   "cell_type": "code",
   "execution_count": 55,
   "metadata": {
    "collapsed": false
   },
   "outputs": [
    {
     "data": {
      "image/png": "[encoded data removed]",
      "text/plain": [
       "<matplotlib.figure.Figure at 0x11a8e2850>"
      ]
     },
     "metadata": {},
     "output_type": "display_data"
    }
   ],
   "source": [
    "fns = rf_data[(rf_data.rf_pred == 0) & (rf_data['Class'] == 1)]\n",
    "sns.boxplot(fns.Amount);\n",
    "plt.title('$ Amount of False Negative Predictions');"
   ]
  },
  {
   "cell_type": "code",
   "execution_count": 56,
   "metadata": {
    "collapsed": false,
    "scrolled": true
   },
   "outputs": [
    {
     "data": {
      "image/png": "[encoded data removed]",
      "text/plain": [
       "<matplotlib.figure.Figure at 0x119e9eed0>"
      ]
     },
     "metadata": {},
     "output_type": "display_data"
    }
   ],
   "source": [
    "tps = rf_data[(rf_data.rf_pred == 1) & (rf_data['Class'] == 1)]\n",
    "sns.boxplot(tps.Amount);\n",
    "plt.title('$ Amount of True Positive Predictions');"
   ]
  },
  {
   "cell_type": "markdown",
   "metadata": {},
   "source": [
    "**Notice from the above graphs**, that the dollar amount of fraudulent activity that our model missed (False Negatives) is typically small relative to the distribution of dollar amounts."
   ]
  },
  {
   "cell_type": "markdown",
   "metadata": {},
   "source": [
    "## Does target class imbalance cause the same problems for a Random Forest classifier that we saw with Logistic Regression?\n",
    "\n"
   ]
  },
  {
   "cell_type": "code",
   "execution_count": 57,
   "metadata": {
    "collapsed": false
   },
   "outputs": [
    {
     "name": "stdout",
     "output_type": "stream",
     "text": [
      "[[71070    12]\n",
      " [   34    86]]\n",
      "True Positive Rate:  0.716666666667\n",
      "False Positive Rate:  0.000168819110323\n",
      "Accuracy Score:  0.999353950732\n",
      "AUROC:  0.858248923778\n"
     ]
    }
   ],
   "source": [
    "# Fit a random forest classifier to a training split of the ORIGINAL UNBALANCED DATASET\n",
    "# Analyze performance of this classifier compared to the similarly trained logistic regression\n",
    "rf_unbalanced = RandomForestClassifier(n_estimators=100,max_depth=3)\n",
    "rf_unbalanced.fit(X_all_train,y_all_train)\n",
    "rf_ub_score,rf_ub_tpr,rf_ub_fpr,rf_ub_auroc = advanced_metrics(rf_unbalanced,X_all_test,y_all_test)"
   ]
  },
  {
   "cell_type": "markdown",
   "metadata": {},
   "source": [
    "***Yes and no.***  Notice that the accuracy score, similarly to before, is still very high.  This is to be expected even with a very poor classifier for our data, due to the unbalanced nature of the target values.  However, also notice that the AUROC, TPR, and FPR metrics for the unbalanced test set are significantly better for the Random Forest classifier trained on the unbalanced training set compared to the Logistic Regression model trained on the same data.\n",
    "\n",
    "The reason for this is because the Random Forest classifier aims to maximize the node purity (according to the Gini index) in each of its base estimators, while the Logistic Regression classifier aims to maximize accuracy.  By seeking to maximize node purity, the Random Forest classifier is able to actually *learn* something about the underlying data, despite the unbalanced target classes.  Due to the way that each of the base estimators seek to partition data in a way that maximizes node purity, and the classifer aggregates these individual partitions to \"vote\" on specific data points, the partitions are formed in such a way that is not nearly as effected by the class imbalance compared to a Logistic Regression model.\n",
    "\n",
    "You will also notice that, while the TPR and AUROC for this model are quite a bit lower compared to the same metrics for the  Random Forest classifier trained on the balanced training set, the FPR is in fact *better* for this model.\n",
    "\n",
    "***Why is this the case?***\n",
    "\n",
    "The random forest works by each base estimator \"voting\" on the classification of a test data point, based on how that data point evaluates in each base estimator's respective decision tree.  The randomization involved in training these base estimators means that the class imbalance *still* exercises some influence over each base estimator's \"vote\".  In particular, if each base estimator is formed by simply randomly partitioning the training set, then a single terminal node (leaf) is far more likely to vote to classify a new data point as the overall majority target class than the under-represented class.  So, while the Random Forest improves upon the Logistic Regression in extracting meaningful feature values on which to base classifications, it still falls victim to the influence of the class imbalance.\n",
    "\n",
    "For this reason, we see that the Random Forest classifier trained on a balanced training/test split still performs better than its counterpart trained on a training split from the original unbalanced data."
   ]
  },
  {
   "cell_type": "markdown",
   "metadata": {},
   "source": [
    "# Conclusions\n",
    "\n",
    "Ultimately, we have seen two different methods of classification (Logistic Regression and Random Forests) perform very well in detecting fraudulent credit card activity.  Using undersampling to create balanced target classes, we were able to effectively identify fraudulent credit card purchases.  Ultimately, had this data not been PCA transformed, I would recommend using Logistic Regression for classification moving forward, mostly because it provides interpretable results through its coefficients while producing similarly effective results compared to the Random Forest classifier.  While the coefficients on the transformed data are not particularly meaningful, a similar model trained against the raw, un-transformed data would return far more meaningful insights. "
   ]
  }
 ],
 "metadata": {
  "anaconda-cloud": {},
  "kernelspec": {
   "display_name": "Python [python27]",
   "language": "python",
   "name": "Python [python27]"
  },
  "language_info": {
   "codemirror_mode": {
    "name": "ipython",
    "version": 2
   },
   "file_extension": ".py",
   "mimetype": "text/x-python",
   "name": "python",
   "nbconvert_exporter": "python",
   "pygments_lexer": "ipython2",
   "version": "2.7.13"
  }
 },
 "nbformat": 4,
 "nbformat_minor": 2
}
