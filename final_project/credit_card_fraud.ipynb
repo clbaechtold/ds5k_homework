{
 "cells": [
  {
   "cell_type": "markdown",
   "metadata": {},
   "source": [
    "# Detecting Fraudulent Credit Card Activity\n",
    "## Using Imbalanced Data\n",
    "---\n",
    "Raw data pulled from [Kaggle](https://www.kaggle.com/dalpozz/creditcardfraud/data)\n",
    "\n",
    "Original data credited to: Andrea Dal Pozzolo, Olivier Caelen, Reid A. Johnson and Gianluca Bontempi. Calibrating Probability with Undersampling for Unbalanced Classification. In Symposium on Computational Intelligence and Data Mining (CIDM), IEEE, 2015\n",
    "\n",
    "---\n",
    "##### This notebook is broken up into two primary sections:\n",
    "* Exploratory Data Analysis\n",
    "* Model Fitting & Tuning"
   ]
  },
  {
   "cell_type": "markdown",
   "metadata": {},
   "source": [
    "# Exploratory Data Analysis"
   ]
  },
  {
   "cell_type": "code",
   "execution_count": 1,
   "metadata": {
    "collapsed": false
   },
   "outputs": [],
   "source": [
    "import pandas as pd\n",
    "import numpy as np\n",
    "import seaborn as sns\n",
    "import matplotlib.pyplot as plt\n",
    "from sklearn.linear_model import LogisticRegression\n",
    "from sklearn.ensemble import RandomForestClassifier\n",
    "from sklearn.model_selection import train_test_split, cross_val_score\n",
    "from sklearn.metrics import confusion_matrix, roc_curve, roc_auc_score\n",
    "\n",
    "plt.style.use('fivethirtyeight')\n",
    "%matplotlib inline"
   ]
  },
  {
   "cell_type": "code",
   "execution_count": 2,
   "metadata": {
    "collapsed": false
   },
   "outputs": [],
   "source": [
    "cc_fraud = pd.read_csv('./data/creditcard.csv')"
   ]
  },
  {
   "cell_type": "code",
   "execution_count": 3,
   "metadata": {
    "collapsed": false
   },
   "outputs": [
    {
     "data": {
      "text/html": [
       "<div>\n",
       "<style>\n",
       "    .dataframe thead tr:only-child th {\n",
       "        text-align: right;\n",
       "    }\n",
       "\n",
       "    .dataframe thead th {\n",
       "        text-align: left;\n",
       "    }\n",
       "\n",
       "    .dataframe tbody tr th {\n",
       "        vertical-align: top;\n",
       "    }\n",
       "</style>\n",
       "<table border=\"1\" class=\"dataframe\">\n",
       "  <thead>\n",
       "    <tr style=\"text-align: right;\">\n",
       "      <th></th>\n",
       "      <th>Time</th>\n",
       "      <th>V1</th>\n",
       "      <th>V2</th>\n",
       "      <th>V3</th>\n",
       "      <th>V4</th>\n",
       "      <th>V5</th>\n",
       "      <th>V6</th>\n",
       "      <th>V7</th>\n",
       "      <th>V8</th>\n",
       "      <th>V9</th>\n",
       "      <th>...</th>\n",
       "      <th>V21</th>\n",
       "      <th>V22</th>\n",
       "      <th>V23</th>\n",
       "      <th>V24</th>\n",
       "      <th>V25</th>\n",
       "      <th>V26</th>\n",
       "      <th>V27</th>\n",
       "      <th>V28</th>\n",
       "      <th>Amount</th>\n",
       "      <th>Class</th>\n",
       "    </tr>\n",
       "  </thead>\n",
       "  <tbody>\n",
       "    <tr>\n",
       "      <th>count</th>\n",
       "      <td>284807.000000</td>\n",
       "      <td>2.848070e+05</td>\n",
       "      <td>2.848070e+05</td>\n",
       "      <td>2.848070e+05</td>\n",
       "      <td>2.848070e+05</td>\n",
       "      <td>2.848070e+05</td>\n",
       "      <td>2.848070e+05</td>\n",
       "      <td>2.848070e+05</td>\n",
       "      <td>2.848070e+05</td>\n",
       "      <td>2.848070e+05</td>\n",
       "      <td>...</td>\n",
       "      <td>2.848070e+05</td>\n",
       "      <td>2.848070e+05</td>\n",
       "      <td>2.848070e+05</td>\n",
       "      <td>2.848070e+05</td>\n",
       "      <td>2.848070e+05</td>\n",
       "      <td>2.848070e+05</td>\n",
       "      <td>2.848070e+05</td>\n",
       "      <td>2.848070e+05</td>\n",
       "      <td>284807.000000</td>\n",
       "      <td>284807.000000</td>\n",
       "    </tr>\n",
       "    <tr>\n",
       "      <th>mean</th>\n",
       "      <td>94813.859575</td>\n",
       "      <td>3.919560e-15</td>\n",
       "      <td>5.688174e-16</td>\n",
       "      <td>-8.769071e-15</td>\n",
       "      <td>2.782312e-15</td>\n",
       "      <td>-1.552563e-15</td>\n",
       "      <td>2.010663e-15</td>\n",
       "      <td>-1.694249e-15</td>\n",
       "      <td>-1.927028e-16</td>\n",
       "      <td>-3.137024e-15</td>\n",
       "      <td>...</td>\n",
       "      <td>1.537294e-16</td>\n",
       "      <td>7.959909e-16</td>\n",
       "      <td>5.367590e-16</td>\n",
       "      <td>4.458112e-15</td>\n",
       "      <td>1.453003e-15</td>\n",
       "      <td>1.699104e-15</td>\n",
       "      <td>-3.660161e-16</td>\n",
       "      <td>-1.206049e-16</td>\n",
       "      <td>88.349619</td>\n",
       "      <td>0.001727</td>\n",
       "    </tr>\n",
       "    <tr>\n",
       "      <th>std</th>\n",
       "      <td>47488.145955</td>\n",
       "      <td>1.958696e+00</td>\n",
       "      <td>1.651309e+00</td>\n",
       "      <td>1.516255e+00</td>\n",
       "      <td>1.415869e+00</td>\n",
       "      <td>1.380247e+00</td>\n",
       "      <td>1.332271e+00</td>\n",
       "      <td>1.237094e+00</td>\n",
       "      <td>1.194353e+00</td>\n",
       "      <td>1.098632e+00</td>\n",
       "      <td>...</td>\n",
       "      <td>7.345240e-01</td>\n",
       "      <td>7.257016e-01</td>\n",
       "      <td>6.244603e-01</td>\n",
       "      <td>6.056471e-01</td>\n",
       "      <td>5.212781e-01</td>\n",
       "      <td>4.822270e-01</td>\n",
       "      <td>4.036325e-01</td>\n",
       "      <td>3.300833e-01</td>\n",
       "      <td>250.120109</td>\n",
       "      <td>0.041527</td>\n",
       "    </tr>\n",
       "    <tr>\n",
       "      <th>min</th>\n",
       "      <td>0.000000</td>\n",
       "      <td>-5.640751e+01</td>\n",
       "      <td>-7.271573e+01</td>\n",
       "      <td>-4.832559e+01</td>\n",
       "      <td>-5.683171e+00</td>\n",
       "      <td>-1.137433e+02</td>\n",
       "      <td>-2.616051e+01</td>\n",
       "      <td>-4.355724e+01</td>\n",
       "      <td>-7.321672e+01</td>\n",
       "      <td>-1.343407e+01</td>\n",
       "      <td>...</td>\n",
       "      <td>-3.483038e+01</td>\n",
       "      <td>-1.093314e+01</td>\n",
       "      <td>-4.480774e+01</td>\n",
       "      <td>-2.836627e+00</td>\n",
       "      <td>-1.029540e+01</td>\n",
       "      <td>-2.604551e+00</td>\n",
       "      <td>-2.256568e+01</td>\n",
       "      <td>-1.543008e+01</td>\n",
       "      <td>0.000000</td>\n",
       "      <td>0.000000</td>\n",
       "    </tr>\n",
       "    <tr>\n",
       "      <th>25%</th>\n",
       "      <td>54201.500000</td>\n",
       "      <td>-9.203734e-01</td>\n",
       "      <td>-5.985499e-01</td>\n",
       "      <td>-8.903648e-01</td>\n",
       "      <td>-8.486401e-01</td>\n",
       "      <td>-6.915971e-01</td>\n",
       "      <td>-7.682956e-01</td>\n",
       "      <td>-5.540759e-01</td>\n",
       "      <td>-2.086297e-01</td>\n",
       "      <td>-6.430976e-01</td>\n",
       "      <td>...</td>\n",
       "      <td>-2.283949e-01</td>\n",
       "      <td>-5.423504e-01</td>\n",
       "      <td>-1.618463e-01</td>\n",
       "      <td>-3.545861e-01</td>\n",
       "      <td>-3.171451e-01</td>\n",
       "      <td>-3.269839e-01</td>\n",
       "      <td>-7.083953e-02</td>\n",
       "      <td>-5.295979e-02</td>\n",
       "      <td>5.600000</td>\n",
       "      <td>0.000000</td>\n",
       "    </tr>\n",
       "    <tr>\n",
       "      <th>50%</th>\n",
       "      <td>84692.000000</td>\n",
       "      <td>1.810880e-02</td>\n",
       "      <td>6.548556e-02</td>\n",
       "      <td>1.798463e-01</td>\n",
       "      <td>-1.984653e-02</td>\n",
       "      <td>-5.433583e-02</td>\n",
       "      <td>-2.741871e-01</td>\n",
       "      <td>4.010308e-02</td>\n",
       "      <td>2.235804e-02</td>\n",
       "      <td>-5.142873e-02</td>\n",
       "      <td>...</td>\n",
       "      <td>-2.945017e-02</td>\n",
       "      <td>6.781943e-03</td>\n",
       "      <td>-1.119293e-02</td>\n",
       "      <td>4.097606e-02</td>\n",
       "      <td>1.659350e-02</td>\n",
       "      <td>-5.213911e-02</td>\n",
       "      <td>1.342146e-03</td>\n",
       "      <td>1.124383e-02</td>\n",
       "      <td>22.000000</td>\n",
       "      <td>0.000000</td>\n",
       "    </tr>\n",
       "    <tr>\n",
       "      <th>75%</th>\n",
       "      <td>139320.500000</td>\n",
       "      <td>1.315642e+00</td>\n",
       "      <td>8.037239e-01</td>\n",
       "      <td>1.027196e+00</td>\n",
       "      <td>7.433413e-01</td>\n",
       "      <td>6.119264e-01</td>\n",
       "      <td>3.985649e-01</td>\n",
       "      <td>5.704361e-01</td>\n",
       "      <td>3.273459e-01</td>\n",
       "      <td>5.971390e-01</td>\n",
       "      <td>...</td>\n",
       "      <td>1.863772e-01</td>\n",
       "      <td>5.285536e-01</td>\n",
       "      <td>1.476421e-01</td>\n",
       "      <td>4.395266e-01</td>\n",
       "      <td>3.507156e-01</td>\n",
       "      <td>2.409522e-01</td>\n",
       "      <td>9.104512e-02</td>\n",
       "      <td>7.827995e-02</td>\n",
       "      <td>77.165000</td>\n",
       "      <td>0.000000</td>\n",
       "    </tr>\n",
       "    <tr>\n",
       "      <th>max</th>\n",
       "      <td>172792.000000</td>\n",
       "      <td>2.454930e+00</td>\n",
       "      <td>2.205773e+01</td>\n",
       "      <td>9.382558e+00</td>\n",
       "      <td>1.687534e+01</td>\n",
       "      <td>3.480167e+01</td>\n",
       "      <td>7.330163e+01</td>\n",
       "      <td>1.205895e+02</td>\n",
       "      <td>2.000721e+01</td>\n",
       "      <td>1.559499e+01</td>\n",
       "      <td>...</td>\n",
       "      <td>2.720284e+01</td>\n",
       "      <td>1.050309e+01</td>\n",
       "      <td>2.252841e+01</td>\n",
       "      <td>4.584549e+00</td>\n",
       "      <td>7.519589e+00</td>\n",
       "      <td>3.517346e+00</td>\n",
       "      <td>3.161220e+01</td>\n",
       "      <td>3.384781e+01</td>\n",
       "      <td>25691.160000</td>\n",
       "      <td>1.000000</td>\n",
       "    </tr>\n",
       "  </tbody>\n",
       "</table>\n",
       "<p>8 rows × 31 columns</p>\n",
       "</div>"
      ],
      "text/plain": [
       "                Time            V1            V2            V3            V4  \\\n",
       "count  284807.000000  2.848070e+05  2.848070e+05  2.848070e+05  2.848070e+05   \n",
       "mean    94813.859575  3.919560e-15  5.688174e-16 -8.769071e-15  2.782312e-15   \n",
       "std     47488.145955  1.958696e+00  1.651309e+00  1.516255e+00  1.415869e+00   \n",
       "min         0.000000 -5.640751e+01 -7.271573e+01 -4.832559e+01 -5.683171e+00   \n",
       "25%     54201.500000 -9.203734e-01 -5.985499e-01 -8.903648e-01 -8.486401e-01   \n",
       "50%     84692.000000  1.810880e-02  6.548556e-02  1.798463e-01 -1.984653e-02   \n",
       "75%    139320.500000  1.315642e+00  8.037239e-01  1.027196e+00  7.433413e-01   \n",
       "max    172792.000000  2.454930e+00  2.205773e+01  9.382558e+00  1.687534e+01   \n",
       "\n",
       "                 V5            V6            V7            V8            V9  \\\n",
       "count  2.848070e+05  2.848070e+05  2.848070e+05  2.848070e+05  2.848070e+05   \n",
       "mean  -1.552563e-15  2.010663e-15 -1.694249e-15 -1.927028e-16 -3.137024e-15   \n",
       "std    1.380247e+00  1.332271e+00  1.237094e+00  1.194353e+00  1.098632e+00   \n",
       "min   -1.137433e+02 -2.616051e+01 -4.355724e+01 -7.321672e+01 -1.343407e+01   \n",
       "25%   -6.915971e-01 -7.682956e-01 -5.540759e-01 -2.086297e-01 -6.430976e-01   \n",
       "50%   -5.433583e-02 -2.741871e-01  4.010308e-02  2.235804e-02 -5.142873e-02   \n",
       "75%    6.119264e-01  3.985649e-01  5.704361e-01  3.273459e-01  5.971390e-01   \n",
       "max    3.480167e+01  7.330163e+01  1.205895e+02  2.000721e+01  1.559499e+01   \n",
       "\n",
       "           ...                 V21           V22           V23           V24  \\\n",
       "count      ...        2.848070e+05  2.848070e+05  2.848070e+05  2.848070e+05   \n",
       "mean       ...        1.537294e-16  7.959909e-16  5.367590e-16  4.458112e-15   \n",
       "std        ...        7.345240e-01  7.257016e-01  6.244603e-01  6.056471e-01   \n",
       "min        ...       -3.483038e+01 -1.093314e+01 -4.480774e+01 -2.836627e+00   \n",
       "25%        ...       -2.283949e-01 -5.423504e-01 -1.618463e-01 -3.545861e-01   \n",
       "50%        ...       -2.945017e-02  6.781943e-03 -1.119293e-02  4.097606e-02   \n",
       "75%        ...        1.863772e-01  5.285536e-01  1.476421e-01  4.395266e-01   \n",
       "max        ...        2.720284e+01  1.050309e+01  2.252841e+01  4.584549e+00   \n",
       "\n",
       "                V25           V26           V27           V28         Amount  \\\n",
       "count  2.848070e+05  2.848070e+05  2.848070e+05  2.848070e+05  284807.000000   \n",
       "mean   1.453003e-15  1.699104e-15 -3.660161e-16 -1.206049e-16      88.349619   \n",
       "std    5.212781e-01  4.822270e-01  4.036325e-01  3.300833e-01     250.120109   \n",
       "min   -1.029540e+01 -2.604551e+00 -2.256568e+01 -1.543008e+01       0.000000   \n",
       "25%   -3.171451e-01 -3.269839e-01 -7.083953e-02 -5.295979e-02       5.600000   \n",
       "50%    1.659350e-02 -5.213911e-02  1.342146e-03  1.124383e-02      22.000000   \n",
       "75%    3.507156e-01  2.409522e-01  9.104512e-02  7.827995e-02      77.165000   \n",
       "max    7.519589e+00  3.517346e+00  3.161220e+01  3.384781e+01   25691.160000   \n",
       "\n",
       "               Class  \n",
       "count  284807.000000  \n",
       "mean        0.001727  \n",
       "std         0.041527  \n",
       "min         0.000000  \n",
       "25%         0.000000  \n",
       "50%         0.000000  \n",
       "75%         0.000000  \n",
       "max         1.000000  \n",
       "\n",
       "[8 rows x 31 columns]"
      ]
     },
     "execution_count": 3,
     "metadata": {},
     "output_type": "execute_result"
    }
   ],
   "source": [
    "cc_fraud.describe()"
   ]
  },
  {
   "cell_type": "code",
   "execution_count": 4,
   "metadata": {
    "collapsed": false
   },
   "outputs": [
    {
     "data": {
      "image/png": "[encoded data removed]",
      "text/plain": [
       "<matplotlib.figure.Figure at 0x10fdf47d0>"
      ]
     },
     "metadata": {},
     "output_type": "display_data"
    }
   ],
   "source": [
    "sns.distplot(cc_fraud[(cc_fraud['Class'] == 1)].Amount);\n",
    "plt.title('Distribution of Fraudulent Purchase Amounts');"
   ]
  },
  {
   "cell_type": "code",
   "execution_count": 5,
   "metadata": {
    "collapsed": false
   },
   "outputs": [
    {
     "data": {
      "text/plain": [
       "0    284315\n",
       "1       492\n",
       "Name: Class, dtype: int64"
      ]
     },
     "execution_count": 5,
     "metadata": {},
     "output_type": "execute_result"
    }
   ],
   "source": [
    "cc_fraud['Class'].value_counts()"
   ]
  },
  {
   "cell_type": "code",
   "execution_count": 6,
   "metadata": {
    "collapsed": false
   },
   "outputs": [
    {
     "data": {
      "image/png": "[encoded data removed]",
      "text/plain": [
       "<matplotlib.figure.Figure at 0x1100c6d10>"
      ]
     },
     "metadata": {},
     "output_type": "display_data"
    }
   ],
   "source": [
    "\n",
    "sns.heatmap(cc_fraud.corr());"
   ]
  },
  {
   "cell_type": "code",
   "execution_count": 7,
   "metadata": {
    "collapsed": false
   },
   "outputs": [],
   "source": [
    "corr_ranks = cc_fraud.corr()['Class']"
   ]
  },
  {
   "cell_type": "code",
   "execution_count": 8,
   "metadata": {
    "collapsed": false,
    "scrolled": true
   },
   "outputs": [
    {
     "name": "stdout",
     "output_type": "stream",
     "text": [
      "Class     1.000000\n",
      "V17       0.326481\n",
      "V14       0.302544\n",
      "V12       0.260593\n",
      "V10       0.216883\n",
      "V16       0.196539\n",
      "V3        0.192961\n",
      "V7        0.187257\n",
      "V11       0.154876\n",
      "V4        0.133447\n",
      "V18       0.111485\n",
      "V1        0.101347\n",
      "V9        0.097733\n",
      "V5        0.094974\n",
      "V2        0.091289\n",
      "V6        0.043643\n",
      "V21       0.040413\n",
      "V19       0.034783\n",
      "V20       0.020090\n",
      "V8        0.019875\n",
      "V27       0.017580\n",
      "Time      0.012323\n",
      "V28       0.009536\n",
      "V24       0.007221\n",
      "Amount    0.005632\n",
      "V13       0.004570\n",
      "V26       0.004455\n",
      "V15       0.004223\n",
      "V25       0.003308\n",
      "V23       0.002685\n",
      "V22       0.000805\n",
      "Name: Class, dtype: float64\n"
     ]
    }
   ],
   "source": [
    "ranked = np.abs(corr_ranks).sort_values(ascending=False)\n",
    "print ranked"
   ]
  },
  {
   "cell_type": "code",
   "execution_count": 9,
   "metadata": {
    "collapsed": false,
    "scrolled": true
   },
   "outputs": [
    {
     "name": "stdout",
     "output_type": "stream",
     "text": [
      "['V17', 'V14', 'V12', 'V10', 'V16', 'V3', 'V7', 'V11', 'V4', 'V18']\n"
     ]
    }
   ],
   "source": [
    "top_features = list(ranked.index[1:11])\n",
    "print list(top_features)"
   ]
  },
  {
   "cell_type": "code",
   "execution_count": 10,
   "metadata": {
    "collapsed": false
   },
   "outputs": [],
   "source": [
    "top_features.append('Amount')"
   ]
  },
  {
   "cell_type": "code",
   "execution_count": 11,
   "metadata": {
    "collapsed": false
   },
   "outputs": [
    {
     "data": {
      "text/plain": [
       "1    250\n",
       "0    250\n",
       "Name: Class, dtype: int64"
      ]
     },
     "execution_count": 11,
     "metadata": {},
     "output_type": "execute_result"
    }
   ],
   "source": [
    "fraud = cc_fraud[(cc_fraud['Class']==1)]\n",
    "not_fraud = cc_fraud[(cc_fraud['Class']==0)]\n",
    "\n",
    "fraud_sample = fraud.sample(250)\n",
    "not_fraud_sample = not_fraud.sample(250)\n",
    "\n",
    "balanced = fraud_sample.append(not_fraud_sample)\n",
    "balanced['Class'].value_counts()"
   ]
  },
  {
   "cell_type": "code",
   "execution_count": 12,
   "metadata": {
    "collapsed": true
   },
   "outputs": [],
   "source": [
    "X = balanced[top_features]\n",
    "y = balanced['Class']"
   ]
  },
  {
   "cell_type": "code",
   "execution_count": 13,
   "metadata": {
    "collapsed": true
   },
   "outputs": [],
   "source": [
    "X_all = cc_fraud[top_features]\n",
    "y_all = cc_fraud['Class']\n",
    "\n",
    "X_all_train, X_all_test, y_all_train, y_all_test = train_test_split(X_all,y_all)"
   ]
  },
  {
   "cell_type": "code",
   "execution_count": 14,
   "metadata": {
    "collapsed": true
   },
   "outputs": [],
   "source": [
    "X_train, X_test, y_train, y_test = train_test_split(X,y,test_size=.3)"
   ]
  },
  {
   "cell_type": "code",
   "execution_count": 15,
   "metadata": {
    "collapsed": true
   },
   "outputs": [],
   "source": [
    "# Calculate accuracy score, true positive rate, false positive rate for any model/dataset\n",
    "def advanced_metrics(model,x,y):\n",
    "    cfm = confusion_matrix(y,model.predict(x))\n",
    "    print cfm\n",
    "    score = model.score(x,y)\n",
    "    tpr = cfm[1][1]/float(cfm[1][0]+cfm[1][1])\n",
    "    fpr = cfm[0][1]/float(cfm[0][0]+cfm[0][1])\n",
    "    auroc = roc_auc_score(y, model.predict(x))\n",
    "    print 'True Positive Rate: ', tpr\n",
    "    print 'False Positive Rate: ', fpr\n",
    "    print 'Accuracy Score: ', score\n",
    "    print 'AUROC: ', auroc\n",
    "    return score,tpr,fpr,auroc"
   ]
  },
  {
   "cell_type": "markdown",
   "metadata": {},
   "source": [
    "# Logistic Regression\n",
    "Examine the performance of a logistic regression model in trying to identify fraudulent credit card purchases."
   ]
  },
  {
   "cell_type": "markdown",
   "metadata": {},
   "source": [
    "### Unbalanced Classes"
   ]
  },
  {
   "cell_type": "code",
   "execution_count": 16,
   "metadata": {
    "collapsed": false,
    "scrolled": true
   },
   "outputs": [
    {
     "name": "stdout",
     "output_type": "stream",
     "text": [
      "[[71075     4]\n",
      " [   47    76]]\n",
      "True Positive Rate:  0.617886178862\n",
      "False Positive Rate:  5.62754118657e-05\n",
      "Accuracy Score:  0.999283727985\n",
      "AUROC:  0.808914951725\n"
     ]
    }
   ],
   "source": [
    "logit_skewed = LogisticRegression()\n",
    "logit_skewed.fit(X_all_train,y_all_train)\n",
    "skew_test_score, skew_test_tpr, skew_test_fpr, skew_test_auroc = advanced_metrics(logit_skewed,X_all_test,y_all_test)"
   ]
  },
  {
   "cell_type": "markdown",
   "metadata": {},
   "source": [
    "**Notice how the accuracy score is very high, but TPR and AUROC are both fairly low.  This is due to the significantly unbalanced classes in the entire dataset.  Moving forward, we will use the train/test split from the sampled balanced dataset.**"
   ]
  },
  {
   "cell_type": "code",
   "execution_count": 17,
   "metadata": {
    "collapsed": false
   },
   "outputs": [
    {
     "data": {
      "text/plain": [
       "LogisticRegression(C=1.0, class_weight=None, dual=False, fit_intercept=True,\n",
       "          intercept_scaling=1, max_iter=100, multi_class='ovr', n_jobs=1,\n",
       "          penalty='l2', random_state=None, solver='liblinear', tol=0.0001,\n",
       "          verbose=0, warm_start=False)"
      ]
     },
     "execution_count": 17,
     "metadata": {},
     "output_type": "execute_result"
    }
   ],
   "source": [
    "logit = LogisticRegression()\n",
    "\n",
    "logit.fit(X_train,y_train)"
   ]
  },
  {
   "cell_type": "code",
   "execution_count": 18,
   "metadata": {
    "collapsed": false
   },
   "outputs": [
    {
     "data": {
      "text/plain": [
       "0.93999999999999995"
      ]
     },
     "execution_count": 18,
     "metadata": {},
     "output_type": "execute_result"
    }
   ],
   "source": [
    "logit.score(X_test,y_test)"
   ]
  },
  {
   "cell_type": "code",
   "execution_count": 19,
   "metadata": {
    "collapsed": false
   },
   "outputs": [
    {
     "name": "stdout",
     "output_type": "stream",
     "text": [
      "[[71  4]\n",
      " [ 5 70]]\n",
      "True Positive Rate:  0.933333333333\n",
      "False Positive Rate:  0.0533333333333\n",
      "Accuracy Score:  0.94\n",
      "AUROC:  0.94\n"
     ]
    }
   ],
   "source": [
    "logit_test_score, logit_test_tpr, logit_test_fpr, logit_test_auroc = advanced_metrics(logit,X_test,y_test)"
   ]
  },
  {
   "cell_type": "markdown",
   "metadata": {},
   "source": [
    "## Performance Against Entire Dataset\n",
    "Now we turn the model towards the entire original dataset (not just the class-balanced subset) and consider the logistic regression's performance.  We will consider the True Positive Rate and False Positive Rate of the classifier."
   ]
  },
  {
   "cell_type": "code",
   "execution_count": 20,
   "metadata": {
    "collapsed": false,
    "scrolled": true
   },
   "outputs": [
    {
     "name": "stdout",
     "output_type": "stream",
     "text": [
      "[[273162  11153]\n",
      " [    44    448]]\n",
      "True Positive Rate:  0.910569105691\n",
      "False Positive Rate:  0.0392276172555\n",
      "Accuracy Score:  0.960685657305\n",
      "AUROC:  0.935670744218\n"
     ]
    }
   ],
   "source": [
    "logit_all_score, logit_all_tpr, logit_all_fpr, logit_all_auroc = advanced_metrics(logit,X_all,y_all)"
   ]
  },
  {
   "cell_type": "markdown",
   "metadata": {},
   "source": [
    "# Random Forest Classifier"
   ]
  },
  {
   "cell_type": "code",
   "execution_count": 21,
   "metadata": {
    "collapsed": false,
    "scrolled": false
   },
   "outputs": [
    {
     "name": "stdout",
     "output_type": "stream",
     "text": [
      "Max Depth:  1\n",
      "[[75  0]\n",
      " [ 5 70]]\n",
      "True Positive Rate:  0.933333333333\n",
      "False Positive Rate:  0.0\n",
      "Accuracy Score:  0.966666666667\n",
      "AUROC:  0.966666666667\n",
      "----------------------------------------------------\n",
      "Max Depth:  2\n",
      "[[74  1]\n",
      " [ 4 71]]\n",
      "True Positive Rate:  0.946666666667\n",
      "False Positive Rate:  0.0133333333333\n",
      "Accuracy Score:  0.966666666667\n",
      "AUROC:  0.966666666667\n",
      "----------------------------------------------------\n",
      "Max Depth:  3\n",
      "[[73  2]\n",
      " [ 4 71]]\n",
      "True Positive Rate:  0.946666666667\n",
      "False Positive Rate:  0.0266666666667\n",
      "Accuracy Score:  0.96\n",
      "AUROC:  0.96\n",
      "----------------------------------------------------\n",
      "Max Depth:  4\n",
      "[[73  2]\n",
      " [ 4 71]]\n",
      "True Positive Rate:  0.946666666667\n",
      "False Positive Rate:  0.0266666666667\n",
      "Accuracy Score:  0.96\n",
      "AUROC:  0.96\n",
      "----------------------------------------------------\n",
      "Max Depth:  5\n",
      "[[73  2]\n",
      " [ 4 71]]\n",
      "True Positive Rate:  0.946666666667\n",
      "False Positive Rate:  0.0266666666667\n",
      "Accuracy Score:  0.96\n",
      "AUROC:  0.96\n",
      "----------------------------------------------------\n",
      "Max Depth:  6\n",
      "[[73  2]\n",
      " [ 4 71]]\n",
      "True Positive Rate:  0.946666666667\n",
      "False Positive Rate:  0.0266666666667\n",
      "Accuracy Score:  0.96\n",
      "AUROC:  0.96\n",
      "----------------------------------------------------\n",
      "Max Depth:  7\n",
      "[[73  2]\n",
      " [ 4 71]]\n",
      "True Positive Rate:  0.946666666667\n",
      "False Positive Rate:  0.0266666666667\n",
      "Accuracy Score:  0.96\n",
      "AUROC:  0.96\n",
      "----------------------------------------------------\n",
      "Max Depth:  8\n",
      "[[72  3]\n",
      " [ 4 71]]\n",
      "True Positive Rate:  0.946666666667\n",
      "False Positive Rate:  0.04\n",
      "Accuracy Score:  0.953333333333\n",
      "AUROC:  0.953333333333\n",
      "----------------------------------------------------\n",
      "Max Depth:  9\n",
      "[[72  3]\n",
      " [ 3 72]]\n",
      "True Positive Rate:  0.96\n",
      "False Positive Rate:  0.04\n",
      "Accuracy Score:  0.96\n",
      "AUROC:  0.96\n",
      "----------------------------------------------------\n",
      "Max Depth:  10\n",
      "[[73  2]\n",
      " [ 4 71]]\n",
      "True Positive Rate:  0.946666666667\n",
      "False Positive Rate:  0.0266666666667\n",
      "Accuracy Score:  0.96\n",
      "AUROC:  0.96\n",
      "----------------------------------------------------\n",
      "Max Depth:  11\n",
      "[[72  3]\n",
      " [ 3 72]]\n",
      "True Positive Rate:  0.96\n",
      "False Positive Rate:  0.04\n",
      "Accuracy Score:  0.96\n",
      "AUROC:  0.96\n",
      "----------------------------------------------------\n",
      "Max Depth:  12\n",
      "[[73  2]\n",
      " [ 3 72]]\n",
      "True Positive Rate:  0.96\n",
      "False Positive Rate:  0.0266666666667\n",
      "Accuracy Score:  0.966666666667\n",
      "AUROC:  0.966666666667\n",
      "----------------------------------------------------\n",
      "Max Depth:  13\n",
      "[[72  3]\n",
      " [ 4 71]]\n",
      "True Positive Rate:  0.946666666667\n",
      "False Positive Rate:  0.04\n",
      "Accuracy Score:  0.953333333333\n",
      "AUROC:  0.953333333333\n",
      "----------------------------------------------------\n",
      "Max Depth:  14\n",
      "[[72  3]\n",
      " [ 4 71]]\n",
      "True Positive Rate:  0.946666666667\n",
      "False Positive Rate:  0.04\n",
      "Accuracy Score:  0.953333333333\n",
      "AUROC:  0.953333333333\n",
      "----------------------------------------------------\n",
      "Max Depth:  15\n",
      "[[72  3]\n",
      " [ 3 72]]\n",
      "True Positive Rate:  0.96\n",
      "False Positive Rate:  0.04\n",
      "Accuracy Score:  0.96\n",
      "AUROC:  0.96\n",
      "----------------------------------------------------\n"
     ]
    },
    {
     "data": {
      "image/png": "[encoded data removed]",
      "text/plain": [
       "<matplotlib.figure.Figure at 0x1100636d0>"
      ]
     },
     "metadata": {},
     "output_type": "display_data"
    }
   ],
   "source": [
    "max_depth_range = range(1,16)\n",
    "scores = []\n",
    "fprs = []\n",
    "tprs = []\n",
    "aurocs = []\n",
    "\n",
    "for depth in max_depth_range:\n",
    "    rf_class = RandomForestClassifier(n_estimators=100,criterion='gini',max_depth=depth)\n",
    "    rf_class.fit(X_train,y_train)\n",
    "    y_rf_pred = rf_class.predict(X_test)\n",
    "    score = rf_class.score(X_test,y_test)\n",
    "    print 'Max Depth: ', depth\n",
    "    score,tpr,fpr,auroc  = advanced_metrics(rf_class,X_test,y_test)\n",
    "    print '----------------------------------------------------'\n",
    "    tprs.append(tpr)\n",
    "    fprs.append(fpr)\n",
    "    scores.append(score)\n",
    "    aurocs.append(auroc)\n",
    "    \n",
    "plt.plot(max_depth_range,scores, label='Accuracy');\n",
    "plt.plot(max_depth_range,tprs, label='True Positive Rate');\n",
    "plt.plot(max_depth_range,fprs, label='False Positive Rate');\n",
    "plt.plot(max_depth_range,aurocs, label='ROC_AUC');\n",
    "plt.xlabel('Max Depth');\n",
    "plt.title('Detecting Fraudulent Credit Card Purchases')\n",
    "plt.ylabel('Accuracy Score/TPR/FPR');\n",
    "plt.legend();"
   ]
  },
  {
   "cell_type": "code",
   "execution_count": 22,
   "metadata": {
    "collapsed": false
   },
   "outputs": [
    {
     "name": "stdout",
     "output_type": "stream",
     "text": [
      "Calculating performance metrics on entire balanced dataset...\n",
      "[[247   3]\n",
      " [  7 243]]\n",
      "True Positive Rate:  0.972\n",
      "False Positive Rate:  0.012\n",
      "Accuracy Score:  0.98\n",
      "AUROC:  0.98\n",
      "----------------------------------------------------\n",
      "Calculating performance metrics on entire original dataset...\n",
      "[[271711  12604]\n",
      " [    27    465]]\n",
      "True Positive Rate:  0.94512195122\n",
      "False Positive Rate:  0.0443311116192\n",
      "Accuracy Score:  0.955650668698\n",
      "AUROC:  0.9503954198\n"
     ]
    }
   ],
   "source": [
    "rf = RandomForestClassifier(n_estimators=100, max_depth=7)\n",
    "rf.fit(X_train,y_train)\n",
    "print 'Calculating performance metrics on entire balanced dataset...'\n",
    "bal_score,bal_tpr,bal_fpr,bal_auroc = advanced_metrics(rf,X,y)\n",
    "print '----------------------------------------------------'\n",
    "print 'Calculating performance metrics on entire original dataset...'\n",
    "all_score,all_trp,all_fpr,all_auroc = advanced_metrics(rf,X_all,y_all)\n"
   ]
  },
  {
   "cell_type": "code",
   "execution_count": 23,
   "metadata": {
    "collapsed": false
   },
   "outputs": [
    {
     "data": {
      "text/html": [
       "<div>\n",
       "<style>\n",
       "    .dataframe thead tr:only-child th {\n",
       "        text-align: right;\n",
       "    }\n",
       "\n",
       "    .dataframe thead th {\n",
       "        text-align: left;\n",
       "    }\n",
       "\n",
       "    .dataframe tbody tr th {\n",
       "        vertical-align: top;\n",
       "    }\n",
       "</style>\n",
       "<table border=\"1\" class=\"dataframe\">\n",
       "  <thead>\n",
       "    <tr style=\"text-align: right;\">\n",
       "      <th></th>\n",
       "      <th>feature</th>\n",
       "      <th>importance</th>\n",
       "    </tr>\n",
       "  </thead>\n",
       "  <tbody>\n",
       "    <tr>\n",
       "      <th>1</th>\n",
       "      <td>V14</td>\n",
       "      <td>0.224226</td>\n",
       "    </tr>\n",
       "    <tr>\n",
       "      <th>3</th>\n",
       "      <td>V10</td>\n",
       "      <td>0.211158</td>\n",
       "    </tr>\n",
       "    <tr>\n",
       "      <th>8</th>\n",
       "      <td>V4</td>\n",
       "      <td>0.143877</td>\n",
       "    </tr>\n",
       "    <tr>\n",
       "      <th>2</th>\n",
       "      <td>V12</td>\n",
       "      <td>0.103014</td>\n",
       "    </tr>\n",
       "    <tr>\n",
       "      <th>0</th>\n",
       "      <td>V17</td>\n",
       "      <td>0.089078</td>\n",
       "    </tr>\n",
       "    <tr>\n",
       "      <th>7</th>\n",
       "      <td>V11</td>\n",
       "      <td>0.071018</td>\n",
       "    </tr>\n",
       "    <tr>\n",
       "      <th>5</th>\n",
       "      <td>V3</td>\n",
       "      <td>0.050514</td>\n",
       "    </tr>\n",
       "    <tr>\n",
       "      <th>4</th>\n",
       "      <td>V16</td>\n",
       "      <td>0.036678</td>\n",
       "    </tr>\n",
       "    <tr>\n",
       "      <th>10</th>\n",
       "      <td>Amount</td>\n",
       "      <td>0.031191</td>\n",
       "    </tr>\n",
       "    <tr>\n",
       "      <th>6</th>\n",
       "      <td>V7</td>\n",
       "      <td>0.023736</td>\n",
       "    </tr>\n",
       "    <tr>\n",
       "      <th>9</th>\n",
       "      <td>V18</td>\n",
       "      <td>0.015512</td>\n",
       "    </tr>\n",
       "  </tbody>\n",
       "</table>\n",
       "</div>"
      ],
      "text/plain": [
       "   feature  importance\n",
       "1      V14    0.224226\n",
       "3      V10    0.211158\n",
       "8       V4    0.143877\n",
       "2      V12    0.103014\n",
       "0      V17    0.089078\n",
       "7      V11    0.071018\n",
       "5       V3    0.050514\n",
       "4      V16    0.036678\n",
       "10  Amount    0.031191\n",
       "6       V7    0.023736\n",
       "9      V18    0.015512"
      ]
     },
     "execution_count": 23,
     "metadata": {},
     "output_type": "execute_result"
    }
   ],
   "source": [
    "# Compute feature importances.\n",
    "pd.DataFrame({'feature':top_features, 'importance':rf.feature_importances_}).sort_values(by='importance',ascending=False)"
   ]
  },
  {
   "cell_type": "code",
   "execution_count": 24,
   "metadata": {
    "collapsed": true
   },
   "outputs": [],
   "source": [
    "rf_data = cc_fraud.copy()\n",
    "rf_data['rf_pred'] = rf.predict(X_all)"
   ]
  },
  {
   "cell_type": "code",
   "execution_count": 25,
   "metadata": {
    "collapsed": false
   },
   "outputs": [
    {
     "data": {
      "image/png": "[encoded data removed]",
      "text/plain": [
       "<matplotlib.figure.Figure at 0x1102af7d0>"
      ]
     },
     "metadata": {},
     "output_type": "display_data"
    }
   ],
   "source": [
    "fps = rf_data[(rf_data.rf_pred == 1) & (rf_data['Class'] == 0)]\n",
    "sns.boxplot(fps.Amount);"
   ]
  },
  {
   "cell_type": "code",
   "execution_count": 26,
   "metadata": {
    "collapsed": false
   },
   "outputs": [
    {
     "data": {
      "image/png": "[encoded data removed]",
      "text/plain": [
       "<matplotlib.figure.Figure at 0x110c7f9d0>"
      ]
     },
     "metadata": {},
     "output_type": "display_data"
    }
   ],
   "source": [
    "fns = rf_data[(rf_data.rf_pred == 0) & (rf_data['Class'] == 1)]\n",
    "sns.boxplot(fns.Amount);"
   ]
  },
  {
   "cell_type": "code",
   "execution_count": 27,
   "metadata": {
    "collapsed": false
   },
   "outputs": [
    {
     "data": {
      "image/png": "[encoded data removed]",
      "text/plain": [
       "<matplotlib.figure.Figure at 0x110c38c10>"
      ]
     },
     "metadata": {},
     "output_type": "display_data"
    }
   ],
   "source": [
    "tps = rf_data[(rf_data.rf_pred == 1) & (rf_data['Class'] == 1)]\n",
    "sns.boxplot(tps.Amount);"
   ]
  },
  {
   "cell_type": "code",
   "execution_count": 28,
   "metadata": {
    "collapsed": false
   },
   "outputs": [
    {
     "data": {
      "text/plain": [
       "0.95039541980017861"
      ]
     },
     "execution_count": 28,
     "metadata": {},
     "output_type": "execute_result"
    }
   ],
   "source": [
    "roc_auc_score(y_all,rf_data.rf_pred)"
   ]
  },
  {
   "cell_type": "code",
   "execution_count": null,
   "metadata": {
    "collapsed": true
   },
   "outputs": [],
   "source": []
  }
 ],
 "metadata": {
  "anaconda-cloud": {},
  "kernelspec": {
   "display_name": "Python [python27]",
   "language": "python",
   "name": "Python [python27]"
  },
  "language_info": {
   "codemirror_mode": {
    "name": "ipython",
    "version": 2
   },
   "file_extension": ".py",
   "mimetype": "text/x-python",
   "name": "python",
   "nbconvert_exporter": "python",
   "pygments_lexer": "ipython2",
   "version": "2.7.13"
  }
 },
 "nbformat": 4,
 "nbformat_minor": 2
}
